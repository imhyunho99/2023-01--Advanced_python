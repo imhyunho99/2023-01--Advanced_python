{
  "nbformat": 4,
  "nbformat_minor": 0,
  "metadata": {
    "colab": {
      "provenance": [],
      "authorship_tag": "ABX9TyOHrbiBdgzgJ87MlbXthbBh",
      "include_colab_link": true
    },
    "kernelspec": {
      "name": "python3",
      "display_name": "Python 3"
    },
    "language_info": {
      "name": "python"
    }
  },
  "cells": [
    {
      "cell_type": "markdown",
      "metadata": {
        "id": "view-in-github",
        "colab_type": "text"
      },
      "source": [
        "<a href=\"https://colab.research.google.com/github/imhyunho99/2023-1--Advanced_python/blob/main/pylib_008~016.ipynb\" target=\"_parent\"><img src=\"https://colab.research.google.com/assets/colab-badge.svg\" alt=\"Open In Colab\"/></a>"
      ]
    },
    {
      "cell_type": "markdown",
      "source": [
        "###**03 variable Data control**"
      ],
      "metadata": {
        "id": "wxJjY-vZfrfw"
      }
    },
    {
      "cell_type": "markdown",
      "source": [
        "\n",
        "**3-3 collections module**\n",
        "\n",
        "3-3-2 namedyuple\n",
        "*   collections.namedtuple()\n",
        "\n",
        "https://docs.python.org/3/library/collections.html\n",
        "\n",
        "\n",
        "\n"
      ],
      "metadata": {
        "id": "A-pLb78NgWg-"
      }
    },
    {
      "cell_type": "code",
      "source": [
        "from collections import namedtuple\n",
        "\n",
        "data = [\n",
        "  ('홍길동', 23, '01099990001'),\n",
        "  ('김철수', 31, '01099991002'),\n",
        "  ('이영희', 29, '01099992003'),\n",
        "]\n",
        "\n",
        "Employee = namedtuple('Employee', 'name, age, cellphone') #tuple은 약간 상수느낌, 한번 초기화한 값은 바꿀 수 없다. *immutable*\n",
        "\n",
        "#emp.name = '박길동'\n",
        "#Traceback (most recent call last):\n",
        "#File \"<stdin>\", line 1, in <module>\n",
        "#AttributeError: can't set attribute\n",
        "\n",
        "#data = [Employee(emp[0], emp[1], emp[2]) for emp in data] namedtuple에서는 리스트 내포 보다는 _make가 조금 더 섹시한 방법이다.\n",
        "\n",
        "data = [Employee._make(emp) for emp in data]\n",
        "\n",
        "print(data[0], type(data[0]))\n",
        "\n",
        "emp = data[0]\n",
        "emp = emp._asdict()\n",
        "print(emp, type(emp)) #namedtuple dict 변환\n",
        "\n",
        "emp = data[0]\n",
        "new_emp = emp._replace(name=\"박길동\")\n",
        "new_emp\n",
        "Employee(name='박길동', age=23, cellphone='01099990001') #tuple obj의 값을 변경하려면 replace 사용. 근데 값이 변경된다는 느낌보다는 새로운 객체를 만들고 대체하는 느낌낌\n"
      ],
      "metadata": {
        "colab": {
          "base_uri": "https://localhost:8080/"
        },
        "id": "HJKKIoIDhYm0",
        "outputId": "680c3c59-b2cb-496a-f285-d65d07501efa"
      },
      "execution_count": null,
      "outputs": [
        {
          "output_type": "stream",
          "name": "stdout",
          "text": [
            "Employee(name='홍길동', age=23, cellphone='01099990001') <class '__main__.Employee'>\n",
            "{'name': '홍길동', 'age': 23, 'cellphone': '01099990001'} <class 'dict'>\n"
          ]
        },
        {
          "output_type": "execute_result",
          "data": {
            "text/plain": [
              "Employee(name='박길동', age=23, cellphone='01099990001')"
            ]
          },
          "metadata": {},
          "execution_count": 12
        }
      ]
    },
    {
      "cell_type": "markdown",
      "source": [
        "\n",
        "**3-3 collections module**\n",
        "\n",
        "3-3-3 Counter\n",
        "\n",
        "*   collections.Counter()\n",
        "\n",
        "https://docs.python.org/3/library/collections.html\n",
        "\n",
        "\n",
        "\n"
      ],
      "metadata": {
        "id": "gWaNQ6WbhY-D"
      }
    },
    {
      "cell_type": "code",
      "source": [
        "from collections import Counter\n",
        "import re\n",
        "\n",
        "data = \"\"\"\n",
        "산에는 꽃 피네.\n",
        "꽃이 피네.\n",
        "갈 봄 여름없이\n",
        "꽃이 피네.\n",
        "\n",
        "산에\n",
        "산에\n",
        "피는 꽃은\n",
        "저만치 혼자서 피어있네.\n",
        "\n",
        "산에서 우는 새여\n",
        "꽃이 좋아\n",
        "산에서\n",
        "사노라네.\n",
        "\n",
        "산에는 꽃지네\n",
        "꽃이 지네.\n",
        "갈 봄 여름 없이\n",
        "꽃이 지네.\n",
        "\"\"\"\n",
        "\n",
        "words = re.findall(r'\\w+', data) #단어 단위 파싱\n",
        "print(\"words: \",words)\n",
        "\n",
        "counter = Counter(words)\n",
        "print(counter, type(counter))\n",
        "print(counter.most_common(3),type(counter.most_common(3)))# 몇등까지 보여줄까?\n"
      ],
      "metadata": {
        "colab": {
          "base_uri": "https://localhost:8080/"
        },
        "id": "dqKwxNbiicsN",
        "outputId": "2be3dcc5-237f-43b5-d96a-1f2a91f610c6"
      },
      "execution_count": null,
      "outputs": [
        {
          "output_type": "stream",
          "name": "stdout",
          "text": [
            "words:  ['산에는', '꽃', '피네', '꽃이', '피네', '갈', '봄', '여름없이', '꽃이', '피네', '산에', '산에', '피는', '꽃은', '저만치', '혼자서', '피어있네', '산에서', '우는', '새여', '꽃이', '좋아', '산에서', '사노라네', '산에는', '꽃지네', '꽃이', '지네', '갈', '봄', '여름', '없이', '꽃이', '지네']\n",
            "Counter({'꽃이': 5, '피네': 3, '산에는': 2, '갈': 2, '봄': 2, '산에': 2, '산에서': 2, '지네': 2, '꽃': 1, '여름없이': 1, '피는': 1, '꽃은': 1, '저만치': 1, '혼자서': 1, '피어있네': 1, '우는': 1, '새여': 1, '좋아': 1, '사노라네': 1, '꽃지네': 1, '여름': 1, '없이': 1}) <class 'collections.Counter'>\n",
            "[('꽃이', 5), ('피네', 3), ('산에는', 2)] <class 'list'>\n"
          ]
        }
      ]
    },
    {
      "cell_type": "markdown",
      "source": [
        "\n",
        "**3-3 collections module**\n",
        "\n",
        "3-3-3 Counter\n",
        "\n",
        "*   ccollections.defaultdict()\n",
        "\n",
        "https://docs.python.org/3/library/collections.html\n",
        "\n",
        "\n",
        "\n"
      ],
      "metadata": {
        "id": "4Pp-bNLNl1VY"
      }
    },
    {
      "cell_type": "code",
      "source": [
        "data = \"Life is too short, You need python.\"\n",
        "\n",
        "#re와 Counter로 문자 개수 세기\n",
        "letters = re.findall('[a-zA-Z,.]{1}',data)\n",
        "print(letters)#단어 단위로 쪼개기\n",
        "\n",
        "data_dict = Counter(letters)\n",
        "print(data_dict)\n",
        "print(dict(data_dict))# 이건 왜 되지?\n",
        "#data_dict = data_dict._asdict() 이렇게 dict형으로는 교체 불가"
      ],
      "metadata": {
        "colab": {
          "base_uri": "https://localhost:8080/"
        },
        "id": "F9QqxB64m9U6",
        "outputId": "1f5b066f-7d15-4fbb-b9dc-44275ffb5562"
      },
      "execution_count": null,
      "outputs": [
        {
          "output_type": "stream",
          "name": "stdout",
          "text": [
            "['L', 'i', 'f', 'e', 'i', 's', 't', 'o', 'o', 's', 'h', 'o', 'r', 't', ',', 'Y', 'o', 'u', 'n', 'e', 'e', 'd', 'p', 'y', 't', 'h', 'o', 'n', '.']\n",
            "Counter({'o': 5, 'e': 3, 't': 3, 'i': 2, 's': 2, 'h': 2, 'n': 2, 'L': 1, 'f': 1, 'r': 1, ',': 1, 'Y': 1, 'u': 1, 'd': 1, 'p': 1, 'y': 1, '.': 1})\n",
            "{'L': 1, 'i': 2, 'f': 1, 'e': 3, 's': 2, 't': 3, 'o': 5, 'h': 2, 'r': 1, ',': 1, 'Y': 1, 'u': 1, 'n': 2, 'd': 1, 'p': 1, 'y': 1, '.': 1}\n"
          ]
        }
      ]
    },
    {
      "cell_type": "code",
      "source": [
        "data = \"Life is too short, You need python.\"\n",
        "\n",
        "d = dict()\n",
        "for c in data:\n",
        "    if c not in d:\n",
        "        d[c] = 0\n",
        "    d[c] += 1\n",
        "\n",
        "print(d)\n",
        "\n",
        "#0으로 초기화, 있다면 +1, 방어적 코드"
      ],
      "metadata": {
        "colab": {
          "base_uri": "https://localhost:8080/"
        },
        "id": "XmdnqYS6nacR",
        "outputId": "9423a699-7fed-42d3-a49a-37bde5c875c1"
      },
      "execution_count": null,
      "outputs": [
        {
          "output_type": "stream",
          "name": "stdout",
          "text": [
            "{'L': 1, 'i': 2, 'f': 1, 'e': 3, ' ': 6, 's': 2, 't': 3, 'o': 5, 'h': 2, 'r': 1, ',': 1, 'Y': 1, 'u': 1, 'n': 2, 'd': 1, 'p': 1, 'y': 1, '.': 1}\n"
          ]
        }
      ]
    },
    {
      "cell_type": "code",
      "source": [
        "from collections import defaultdict\n",
        "\n",
        "data = \"Life is too short, You need python.\"\n",
        "\n",
        "d = defaultdict(int)\n",
        "for c in data:\n",
        "    d[c] += 1\n",
        "d = dict(d)\n",
        "print(d)\n",
        "print(type(d))"
      ],
      "metadata": {
        "colab": {
          "base_uri": "https://localhost:8080/"
        },
        "id": "pWq2ZDoUoNW7",
        "outputId": "f2edd760-5c0e-4f2b-9212-61f12bba9793"
      },
      "execution_count": null,
      "outputs": [
        {
          "output_type": "stream",
          "name": "stdout",
          "text": [
            "{'L': 1, 'i': 2, 'f': 1, 'e': 3, ' ': 6, 's': 2, 't': 3, 'o': 5, 'h': 2, 'r': 1, ',': 1, 'Y': 1, 'u': 1, 'n': 2, 'd': 1, 'p': 1, 'y': 1, '.': 1}\n",
            "<class 'dict'>\n"
          ]
        }
      ]
    },
    {
      "cell_type": "markdown",
      "source": [
        "\n",
        "**3-4 heapq module**\n",
        "우선 순위 큐와 \n",
        "최소 힙: 모든 부모 노드가 자식보다 작거나 같은 값을 갖는 완전 이진 트리\n",
        "\n",
        "* heapq.heappush()\n",
        "* heapq.heappop()  \n",
        "* heapq.heapify()\n",
        "* heapq.nsmallest()\n",
        "\n",
        "\n",
        "https://docs.python.org/ko/3/library/heapq.html\n",
        "\n",
        "\n",
        "  "
      ],
      "metadata": {
        "id": "dABPfEO5obJi"
      }
    },
    {
      "cell_type": "code",
      "source": [
        "import heapq\n",
        "\n",
        "data = [\n",
        "    (12.23, \"강보람\"),\n",
        "    (12.31, \"김지원\"),\n",
        "    (11.98, \"박시우\"),\n",
        "    (11.99, \"장준혁\"),\n",
        "    (11.67, \"차정웅\"),\n",
        "    (12.02, \"박중수\"),\n",
        "    (11.57, \"차동현\"),\n",
        "    (12.04, \"고미숙\"),\n",
        "    (11.92, \"한시우\"),\n",
        "    (12.22, \"이민석\"),\n",
        "]\n",
        "\n",
        "h = []  # 힙 생성\n",
        "\n",
        "for score in data:\n",
        "    heapq.heappush(h, score)  # 힙에 데이터 저장\n",
        "\n",
        "for i in range(3):\n",
        "    print(heapq.heappop(h))  # 최솟값부터 힙 반환\n",
        "\n",
        "print(heapq)\n",
        "\n",
        "heapq_data = heapq.heapify(data) #완전한 소팅을 보장하지 않는다. 다만 힙이 요구하는 규칙은 보장한다. 부모 노드의 값<자식노드의 값\n",
        "for i in range(3):\n",
        "    print(heapq.heappop(data))  # 최솟값부터 힙 반환\n",
        "print(type(heapq_data))\n",
        "\n",
        "print(heapq.nsmallest(3, data)) #가장 작은 n개의 노드\n"
      ],
      "metadata": {
        "colab": {
          "base_uri": "https://localhost:8080/"
        },
        "id": "sOBr7vUlqS5S",
        "outputId": "77d5b676-8789-4032-e81a-7596feccadf3"
      },
      "execution_count": null,
      "outputs": [
        {
          "output_type": "stream",
          "name": "stdout",
          "text": [
            "(11.57, '차동현')\n",
            "(11.67, '차정웅')\n",
            "(11.92, '한시우')\n",
            "<module 'heapq' from '/usr/lib/python3.9/heapq.py'>\n",
            "(11.57, '차동현')\n",
            "(11.67, '차정웅')\n",
            "(11.92, '한시우')\n",
            "<class 'NoneType'>\n",
            "[(11.98, '박시우'), (11.99, '장준혁'), (12.02, '박중수')]\n"
          ]
        }
      ]
    },
    {
      "cell_type": "markdown",
      "source": [
        "**3-5 pprint module**\n",
        "\n",
        "Json을 예쁘게 출력\n",
        "pretty print\n",
        "\n",
        "* heapq.heappush()\n",
        "* heapq.heappop()  \n",
        "* heapq.heapify()\n",
        "* heapq.nsmallest()"
      ],
      "metadata": {
        "id": "vQ77rtPIqVah"
      }
    },
    {
      "cell_type": "code",
      "source": [
        "import pprint\n",
        "\n",
        "result = {'userId': 1, 'id': 1, 'title': 'sunt aut facere repellat provident occaecati excepturi optio reprehenderit', 'body': 'quia et suscipit\\nsuscipit recusandae consequuntur expedita et cum\\nreprehenderit molestiae ut ut quas totam\\nnostrum rerum est autem sunt rem eveniet architecto'}\n",
        "\n",
        "pprint_result = pprint.pprint(result)"
      ],
      "metadata": {
        "colab": {
          "base_uri": "https://localhost:8080/"
        },
        "id": "-F3XCfBOr6eR",
        "outputId": "0d5b041e-3557-4759-87c1-40ae7a10d451"
      },
      "execution_count": null,
      "outputs": [
        {
          "output_type": "stream",
          "name": "stdout",
          "text": [
            "{'body': 'quia et suscipit\\n'\n",
            "         'suscipit recusandae consequuntur expedita et cum\\n'\n",
            "         'reprehenderit molestiae ut ut quas totam\\n'\n",
            "         'nostrum rerum est autem sunt rem eveniet architecto',\n",
            " 'id': 1,\n",
            " 'title': 'sunt aut facere repellat provident occaecati excepturi optio '\n",
            "          'reprehenderit',\n",
            " 'userId': 1}\n"
          ]
        }
      ]
    },
    {
      "cell_type": "markdown",
      "source": [
        "**3-5 bisect module**\n",
        "\n",
        "이진 트리 탐색\n",
        "\n",
        "* bisect.bisect() \n",
        "* bisect.bisect_left()\n",
        "* bisect.insort()\n",
        "\n",
        "\n",
        "https://docs.python.org/ko/3/library/bisect.html"
      ],
      "metadata": {
        "id": "s1lmRmCTuDjo"
      }
    },
    {
      "cell_type": "code",
      "source": [
        "import bisect\n",
        "\n",
        "result_bisect = []\n",
        "score_list = [33, 99, 77, 70, 89, 90, 100]\n",
        "\n",
        "\n",
        "#if로의 구현\n",
        "#for score in score_list:\n",
        "#  if score>=90:\n",
        "#    result.append('A')\n",
        "#  elif score >= 80 and score < 90:\n",
        "#    result.append('B')\n",
        "#  elif score >= 70 and score < 80:\n",
        "#    result.append('C')\n",
        "#  elif score >= 60 and score < 70:\n",
        "#    result.append('D')\n",
        "#  else\n",
        "#    result.append('F')\n",
        "\n",
        "for score in score_list:#bisect=bisect_right는 이상. 포함일때 사용\n",
        "    pos = bisect.bisect([60, 70, 80, 90], score)   # 점수를 삽입할 위치 반환, 정렬된 리스트에 올바른 자리에 삽입\n",
        "    print(\"pos:\", pos)\n",
        "    grade = 'FDCBA'[pos]\n",
        "    result_bisect.append(grade)\n",
        "\n",
        "print(result_bisect)\n",
        "\n",
        "result_left = []#bisect_left는 초과일때 사용\n",
        "for score in score_list:\n",
        "    pos = bisect.bisect_left([60, 70, 80, 90], score)\n",
        "    print(\"pos:\", pos)\n",
        "    grade = 'FDCBA'[pos]\n",
        "    result_left.append(grade)\n",
        "\n",
        "print(result_left)\n",
        "\n",
        "\n",
        "a = [60, 70, 80, 90]\n",
        "bisect.insort(a, 85)\n",
        "print(a) #정렬된 배열에 삽입할 수 있는 자리에 알맞게 값을 추가."
      ],
      "metadata": {
        "colab": {
          "base_uri": "https://localhost:8080/"
        },
        "id": "yVAdulv_z7c2",
        "outputId": "167a6068-2292-4c12-cdbe-08c48ac8f540"
      },
      "execution_count": null,
      "outputs": [
        {
          "output_type": "stream",
          "name": "stdout",
          "text": [
            "pos: 0\n",
            "pos: 4\n",
            "pos: 2\n",
            "pos: 2\n",
            "pos: 3\n",
            "pos: 4\n",
            "pos: 4\n",
            "['F', 'A', 'C', 'C', 'B', 'A', 'A']\n",
            "pos: 0\n",
            "pos: 4\n",
            "pos: 2\n",
            "pos: 1\n",
            "pos: 3\n",
            "pos: 3\n",
            "pos: 4\n",
            "['F', 'A', 'C', 'D', 'B', 'B', 'A']\n",
            "[60, 70, 80, 85, 90]\n"
          ]
        }
      ]
    },
    {
      "cell_type": "markdown",
      "source": [
        "**3-6 enum module**\n",
        "\n",
        "서로 관련이 있는 여러 개의 상수 집합을 정의할 때 사용\n",
        "\n",
        "enumerate generator\n",
        "\n",
        "https://docs.python.org/ko/3/library/enum.html"
      ],
      "metadata": {
        "id": "F0cMvQLvz7x0"
      }
    },
    {
      "cell_type": "code",
      "source": [
        "#가독성이 떨어지고 쓸데 없이 긴 코드, 특히 weekday같이 의미는 없지만 사용하는 매직 넘버들을 줄잉면 코드 가독성이 증가한다.\n",
        "#from datetime import date\n",
        "\n",
        "\n",
        "#def get_menu(input_date):\n",
        "#    weekday = input_date.isoweekday()  # 1:월요일, 2:화요일, ... , 7: 일요일\n",
        "#    if weekday == 1:\n",
        "#        menu = \"김치찌개\"\n",
        "#    elif weekday == 2:\n",
        "#        menu = \"비빔밥\"\n",
        "#    elif weekday == 3:\n",
        "#        menu = \"된장찌개\"\n",
        "#    elif weekday == 4:\n",
        "#        menu = \"불고기\"\n",
        "#    elif weekday == 5:\n",
        "#        menu = \"갈비탕\"\n",
        "#    elif weekday == 6:\n",
        "#        menu = \"라면\"\n",
        "#    elif weekday == 7:\n",
        "#        menu = \"건빵\"\n",
        "#    return menu\n",
        "\n",
        "\n",
        "#print(get_menu(date(2023, 3, 21)))\n",
        "#print(get_menu(date(2023, 3, 23)))\n",
        "\n",
        "from datetime import date\n",
        "from enum import IntEnum\n",
        "\n",
        "\n",
        "class Week(IntEnum): #enum은 뭐랄까... 의미는 딱히 없지만 이름은 필요한 상수 세트를 정의하는데 좋은듯. 짧고 간단한 코드에서는 크게 힘을 발하지 못하지만 길어질수록 가독성이 올라갈듯.\n",
        "    MONDAY = 1\n",
        "    TUESDAY = 2\n",
        "    WEDNESDAY = 3\n",
        "    THURSDAY = 4\n",
        "    FRIDAY = 5\n",
        "    SATURDAY = 6\n",
        "    SUNDAY = 7\n",
        "\n",
        "\n",
        "def get_menu(input_date):\n",
        "    menu = {\n",
        "        Week.MONDAY: \"김치찌개\",\n",
        "        Week.TUESDAY: \"부대찌개\",\n",
        "        Week.WEDNESDAY: \"된장찌개\",\n",
        "        Week.THURSDAY: \"뼈해장국\",\n",
        "        Week.FRIDAY: \"순대국\",\n",
        "        Week.SATURDAY: \"순두부찌개\",\n",
        "        Week.SUNDAY: \"들깨칼국수\",\n",
        "    }\n",
        "    return menu[input_date.isoweekday()]\n",
        "\n",
        "\n",
        "print(get_menu(date(2023, 1, 1)))\n",
        "print(get_menu(date(2023, 4, 5)))\n",
        "\n",
        "for week in Week:\n",
        "   print(\"{}:{}\".format(week.name, week.value))#Enum class의 순회 가능\n",
        "print(type(Week))\n",
        "print(Week)"
      ],
      "metadata": {
        "colab": {
          "base_uri": "https://localhost:8080/"
        },
        "id": "9euIp-MT3q4S",
        "outputId": "bc1799af-83eb-48e4-c100-b49fb32c8eed"
      },
      "execution_count": null,
      "outputs": [
        {
          "output_type": "stream",
          "name": "stdout",
          "text": [
            "들깨칼국수\n",
            "된장찌개\n",
            "MONDAY:1\n",
            "TUESDAY:2\n",
            "WEDNESDAY:3\n",
            "THURSDAY:4\n",
            "FRIDAY:5\n",
            "SATURDAY:6\n",
            "SUNDAY:7\n",
            "<class 'enum.EnumMeta'>\n",
            "<enum 'Week'>\n"
          ]
        }
      ]
    },
    {
      "cell_type": "markdown",
      "source": [
        "**3-7 graphlib.TopologicalSorter module**\n",
        "\n",
        "위상 정렬에 사용하는 클래스\n",
        "위상정렬이란?\n",
        "https://ko.wikipedia.org/wiki/%EC%9C%84%EC%83%81%EC%A0%95%EB%A0%AC \n",
        "\n",
        "A=>B=>C\n",
        "\n",
        "#순환하지 않아야한다.\n",
        "* \n",
        "*   \n",
        "* \n",
        "* "
      ],
      "metadata": {
        "id": "JAv3R4Rd4PyS"
      }
    },
    {
      "cell_type": "code",
      "source": [
        "from graphlib import TopologicalSorter\n",
        "\n",
        "ts = TopologicalSorter()\n",
        "\n",
        "\n",
        "# 규칙1\n",
        "ts.add('영어 중급', '영어 초급')  # 영어 중급의 선수과목은 영어 초급\n",
        "ts.add('영어 고급', '영어 중급')  # 영어 고급의 선수과목은 영어 중급\n",
        "\n",
        "# 규칙2\n",
        "ts.add('영어 문법', '영어 중급')  # 영어 문법의 선수과목은 영어 중급\n",
        "ts.add('영어 고급', '영어 문법', '영어 중급')  # 영어 고급의 선수과목은 영어 문법과 영어 중급, 선행 조건을 여러개 처리할 수도 있음\n",
        "\n",
        "# 규칙3\n",
        "ts.add('영어 회화', '영어 문법')  # 영어 회화의 선수과목은 영어 문법\n",
        "\n",
        "# 순환을 만들면\n",
        "#ts.add('영어 초급', '영어 중급', '영어 문법') # 영어 고급의 선수 과목은 영어 중급과 영어 문법\n",
        "#CycleError: ('nodes are in a cycle', ['영어 초급', '영어 중급', '영어 초급']) \n",
        "\n",
        "result = ts.static_order()\n",
        "print(result)\n",
        "print(type(result))\n",
        "print(list(result))  # 위상 정렬한 결과를 출력"
      ],
      "metadata": {
        "colab": {
          "base_uri": "https://localhost:8080/"
        },
        "id": "C2X0Mc968jqm",
        "outputId": "9c01a87e-821e-4173-d4e4-ec4cf8b55647"
      },
      "execution_count": null,
      "outputs": [
        {
          "output_type": "stream",
          "name": "stdout",
          "text": [
            "<generator object TopologicalSorter.static_order at 0x7ff1a3712ba0>\n",
            "<class 'generator'>\n",
            "['영어 초급', '영어 중급', '영어 문법', '영어 고급', '영어 회화']\n"
          ]
        }
      ]
    },
    {
      "cell_type": "code",
      "source": [
        "  "
      ],
      "metadata": {
        "id": "8SLmnmLE8nJE"
      },
      "execution_count": null,
      "outputs": []
    }
  ]
}