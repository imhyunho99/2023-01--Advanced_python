{
  "nbformat": 4,
  "nbformat_minor": 0,
  "metadata": {
    "colab": {
      "provenance": [],
      "authorship_tag": "ABX9TyO00V2e6/P2bU3WMOjN710R",
      "include_colab_link": true
    },
    "kernelspec": {
      "name": "python3",
      "display_name": "Python 3"
    },
    "language_info": {
      "name": "python"
    }
  },
  "cells": [
    {
      "cell_type": "markdown",
      "metadata": {
        "id": "view-in-github",
        "colab_type": "text"
      },
      "source": [
        "<a href=\"https://colab.research.google.com/github/imhyunho99/2023-1--Advanced_python/blob/main/pylib_025~034.ipynb\" target=\"_parent\"><img src=\"https://colab.research.google.com/assets/colab-badge.svg\" alt=\"Open In Colab\"/></a>"
      ]
    },
    {
      "cell_type": "markdown",
      "source": [
        "**5-1 itertools module**\n",
        "\n",
        "*    itertools.cycle()\n",
        "*    next()\n",
        "*    itertools.accumulate()\n",
        "*    itertools.groupby()\n",
        "*    itertools.zip_longest()\n",
        "*    itertools.permutations()\n",
        "*    itertools.combinations()\n",
        "\n",
        "\n",
        "https://docs.python.org/ko/3/library/itertools.html#itertools\n"
      ],
      "metadata": {
        "id": "DLvzJB3Ul8xp"
      }
    },
    {
      "cell_type": "code",
      "execution_count": null,
      "metadata": {
        "colab": {
          "base_uri": "https://localhost:8080/"
        },
        "id": "QIfcvAyoljse",
        "outputId": "4984fda6-6159-4397-929d-384dd3061612"
      },
      "outputs": [
        {
          "output_type": "stream",
          "name": "stdout",
          "text": [
            "[{'blood': 'O', 'name': '이민서'},\n",
            " {'blood': 'B', 'name': '이영순'},\n",
            " {'blood': 'AB', 'name': '이상호'},\n",
            " {'blood': 'B', 'name': '김지민'},\n",
            " {'blood': 'O', 'name': '최상현'},\n",
            " {'blood': 'A', 'name': '김지아'},\n",
            " {'blood': 'B', 'name': '손우진'},\n",
            " {'blood': 'B', 'name': '박은주'}]\n",
            "O [{'name': '이민서', 'blood': 'O'}]\n",
            "B [{'name': '이영순', 'blood': 'B'}]\n",
            "AB [{'name': '이상호', 'blood': 'AB'}]\n",
            "B [{'name': '김지민', 'blood': 'B'}]\n",
            "O [{'name': '최상현', 'blood': 'O'}]\n",
            "A [{'name': '김지아', 'blood': 'A'}]\n",
            "B [{'name': '손우진', 'blood': 'B'}, {'name': '박은주', 'blood': 'B'}]\n"
          ]
        }
      ],
      "source": [
        "import operator\n",
        "import itertools\n",
        "import pprint\n",
        "\n",
        "data = [\n",
        "    {'name': '이민서', 'blood': 'O'},\n",
        "    {'name': '이영순', 'blood': 'B'},\n",
        "    {'name': '이상호', 'blood': 'AB'},\n",
        "    {'name': '김지민', 'blood': 'B'},\n",
        "    {'name': '최상현', 'blood': 'O'},\n",
        "    {'name': '김지아', 'blood': 'A'},\n",
        "    {'name': '손우진', 'blood': 'B'},\n",
        "    {'name': '박은주', 'blood': 'B'}\n",
        "]\n",
        "\n",
        "\n",
        "\n",
        "#data = sorted(data, key=operator.itemgetter('blood')) #blood의 key를 기준으로 정렬, key설정 안하면 dict형 반환\n",
        "\n",
        "grouped_data = itertools.groupby(data, key=operator.itemgetter('blood'))\n",
        "\n",
        "pprint.pprint(data)\n",
        "\n",
        "result = {}\n",
        "for key, group_data in grouped_data:\n",
        "    print(key, list(group_data))\n",
        "\n",
        "#반환값, 그리고 한번 데이터 소트하면 계속 저장이"
      ]
    },
    {
      "cell_type": "code",
      "source": [
        "students = ['한민서', '황지민', '이영철', '이광수', '김승민']\n",
        "rewards = ['사탕', '초콜릿', '젤리']\n",
        "\n",
        "result = itertools.zip_longest(students, rewards, fillvalue='새우깡') #새우깡으로 채우기, default NaN\n",
        "print(list(result))"
      ],
      "metadata": {
        "colab": {
          "base_uri": "https://localhost:8080/"
        },
        "id": "KuoP2PgrpkDF",
        "outputId": "18726c52-a992-4e02-90b4-254e7ce2c406"
      },
      "execution_count": null,
      "outputs": [
        {
          "output_type": "stream",
          "name": "stdout",
          "text": [
            "[('한민서', '사탕'), ('황지민', '초콜릿'), ('이영철', '젤리'), ('이광수', '새우깡'), ('김승민', '새우깡')]\n"
          ]
        }
      ]
    },
    {
      "cell_type": "code",
      "source": [
        "list(itertools.permutations(['1', '2', '3'], r=2)) #n개의 순열\n",
        "for a, b in itertools.permutations(['1', '2', '3'], 2):\n",
        "    print(a+b)"
      ],
      "metadata": {
        "colab": {
          "base_uri": "https://localhost:8080/"
        },
        "id": "81uNAg8qppNO",
        "outputId": "5b2f1b30-509d-4dd2-be77-c4b48f5fff4c"
      },
      "execution_count": null,
      "outputs": [
        {
          "output_type": "stream",
          "name": "stdout",
          "text": [
            "12\n",
            "13\n",
            "21\n",
            "23\n",
            "31\n",
            "32\n"
          ]
        }
      ]
    },
    {
      "cell_type": "code",
      "source": [
        "it_combi = itertools.combinations(range(1, 46), r=6)\n",
        "it_combi_replace = itertools.combinations_with_replacement(range(1, 46), r=6)\n",
        "\n",
        "#for num in it_combi:\n",
        "      #print(num)"
      ],
      "metadata": {
        "id": "tmhUGwL5rbTw"
      },
      "execution_count": null,
      "outputs": []
    },
    {
      "cell_type": "markdown",
      "source": [
        "**5-2 functools module**\n",
        "\n",
        "*    functools.cmp_to_key()\n",
        "*    @functools.lru_cache(maxsize=128)\n",
        "*    functools.partial()\n",
        "*    functools.reduce()\n",
        "*    @functools.wraps()\n",
        "\n",
        "https://docs.python.org/ko/3/library/functools.html"
      ],
      "metadata": {
        "id": "GBNY6QQIr0yG"
      }
    },
    {
      "cell_type": "code",
      "source": [
        "import functools\n",
        "\n",
        "def xy_compare(n1, n2): #y ==> x순으로 비교\n",
        "    if n1[1] > n2[1]:         # y 좌표가 크면\n",
        "        return 1\n",
        "    elif n1[1] == n2[1]:      # y 좌표가 같으면\n",
        "        if n1[0] > n2[0]:     # x 좌표가 크면\n",
        "            return 1\n",
        "        elif n1[0] == n2[0]:  # x 좌표가 같으면\n",
        "            return 0\n",
        "        else:                 # x 좌표가 작으면\n",
        "            return -1\n",
        "    else:                     # y 좌표가 작으면\n",
        "        return -1\n",
        "\n",
        "src = [(0, 4), (1, 2), (1, -1), (2, 2), (3, 3)]\n",
        "result = sorted(src, key=functools.cmp_to_key(xy_compare))\n",
        "print(result)"
      ],
      "metadata": {
        "colab": {
          "base_uri": "https://localhost:8080/"
        },
        "id": "-dFOMJQ5u7P_",
        "outputId": "a984b1d2-15fb-47fa-dca7-1d61b16b0fea"
      },
      "execution_count": null,
      "outputs": [
        {
          "output_type": "stream",
          "name": "stdout",
          "text": [
            "[(1, -1), (1, 2), (2, 2), (3, 3), (0, 4)]\n"
          ]
        }
      ]
    },
    {
      "cell_type": "code",
      "source": [
        "import urllib.request\n",
        "from functools import lru_cache\n",
        "import pprint\n",
        "\n",
        "@lru_cache(maxsize=32)\n",
        "def get_wikidocs(page):\n",
        "    print(\"wikidocs page:{}\".format(page))  # 페이지 호출시 출력\n",
        "    resource = 'https://wikidocs.net/{}'.format(page)\n",
        "    try:\n",
        "        with urllib.request.urlopen(resource) as s:\n",
        "            return s.read()\n",
        "    except urllib.error.HTTPError:\n",
        "        return 'Not Found'\n",
        "\n",
        "#비단 URL뿐 아니라 오래걸리는 함수와 값을 캐시에 넣을 수 있음 단 저장공간 사용\n",
        "first_6 = get_wikidocs(6)\n",
        "first_7 = get_wikidocs(7)\n",
        "\n",
        "second_6 = get_wikidocs(6)\n",
        "second_7 = get_wikidocs(7)\n",
        "\n",
        "assert first_6 == second_6  # 처음 요청한 6페이지와 두 번째 요청한 6페이지의 내용이 같은지 확인\n",
        "assert first_7 == second_7\n",
        "\n",
        "pprint.pprint(first_6)"
      ],
      "metadata": {
        "id": "mwhd-oOXu7tv"
      },
      "execution_count": null,
      "outputs": []
    },
    {
      "cell_type": "code",
      "source": [
        "assert first_6 == second_6  # 처음 요청한 6페이지와 두 번째 요청한 6페이지의 내용이 같은지 확인\n",
        "assert first_7 == second_7 #Flase이면 assert Error발생"
      ],
      "metadata": {
        "id": "maGQxrWX1RTK"
      },
      "execution_count": null,
      "outputs": []
    },
    {
      "cell_type": "code",
      "source": [
        "from functools import partial\n",
        "\n",
        "#이미 구현된 함수 쪼개기\n",
        "def add_mul(choice, *args): #*args, 나머지 인자는 통으로 처리 가능 \n",
        "    if choice == \"add\":\n",
        "        result = 0\n",
        "        for i in args:\n",
        "            result = result + i\n",
        "    elif choice == \"mul\":\n",
        "        result = 1\n",
        "        for i in args:\n",
        "            result = result * i\n",
        "    return result\n",
        "\n",
        "add = partial(add_mul, 'add')\n",
        "mul = partial(add_mul, 'mul')\n",
        "\n",
        "print(add(1,2,3,4,5))  # 15 출력\n",
        "print(mul(1,2,3,4,5))  # 120 출력"
      ],
      "metadata": {
        "colab": {
          "base_uri": "https://localhost:8080/"
        },
        "id": "MnhxaYxj3lLD",
        "outputId": "b1ae8861-8a83-4474-b8f2-813c3d395927"
      },
      "execution_count": null,
      "outputs": [
        {
          "output_type": "stream",
          "name": "stdout",
          "text": [
            "15\n",
            "120\n"
          ]
        }
      ]
    },
    {
      "cell_type": "code",
      "source": [
        "add1000 = partial(add_mul,'add',1000)#~from add_mul\n",
        "add1000(1,2,3,4,5)\n",
        "print(add1000.func)\n",
        "print(add1000.args)"
      ],
      "metadata": {
        "colab": {
          "base_uri": "https://localhost:8080/"
        },
        "id": "oka6aHYD53kN",
        "outputId": "59f1361d-baa5-46a0-e6c6-5c2c10d5ef83"
      },
      "execution_count": null,
      "outputs": [
        {
          "output_type": "stream",
          "name": "stdout",
          "text": [
            "<function add_mul at 0x7f344b8f65e0>\n",
            "('add', 1000)\n"
          ]
        }
      ]
    },
    {
      "cell_type": "code",
      "source": [
        "def get_num():\n",
        "  numbers = input(\"n개의 정수입력\")\n",
        "  numbers = numbers.split(' ')\n",
        "  n = []\n",
        "  for i in numbers:\n",
        "    n.append(int(i))\n",
        "  return n\n",
        "\n",
        "def add(data):\n",
        "  result = 0\n",
        "  for i in data:\n",
        "    result += i\n",
        "  return result"
      ],
      "metadata": {
        "id": "-rcZJEli7CgS"
      },
      "execution_count": null,
      "outputs": []
    },
    {
      "cell_type": "code",
      "source": [
        "data = [1, 2, 3, 4, 5]\n",
        "result = functools.reduce(lambda x, y: x + y, data)\n",
        "print(result)\n",
        "\n",
        "max_num = functools.reduce(lambda x, y: x if x > y else y, data)\n",
        "print(max_num)"
      ],
      "metadata": {
        "colab": {
          "base_uri": "https://localhost:8080/"
        },
        "id": "piQNVoa684si",
        "outputId": "d8e70a31-3bc1-4079-8178-606b846e424c"
      },
      "execution_count": null,
      "outputs": [
        {
          "output_type": "stream",
          "name": "stdout",
          "text": [
            "15\n",
            "5\n"
          ]
        }
      ]
    },
    {
      "cell_type": "code",
      "source": [
        "import time\n",
        "\n",
        "def elapsed(original_func):\n",
        "    @functools.wraps(original_func)  # 여기에 추가!! ㅋㅋㅋ\n",
        "    def wrapper(*args, **kwargs):\n",
        "        start = time.time()\n",
        "        result = original_func(*args, **kwargs)\n",
        "        end = time.time()\n",
        "        print(\"함수 수행시간: %f 초\" % (end - start))\n",
        "        return result\n",
        "\n",
        "    return wrapper\n",
        "\n",
        "\n",
        "@elapsed\n",
        "def add(a, b):\n",
        "    \"\"\" 두 수 a, b를 더한값을 리턴하는 함수 \"\"\" #\n",
        "    return a + b\n",
        "\n",
        "\n",
        "print(\"함수 이름:\", add)  # 함수 이름 출력\n",
        "help(add)  # 함수 독스트링 출력"
      ],
      "metadata": {
        "colab": {
          "base_uri": "https://localhost:8080/"
        },
        "id": "Kn5XaGK-9Fra",
        "outputId": "f9880929-5956-4152-d4fe-969f732c2922"
      },
      "execution_count": null,
      "outputs": [
        {
          "output_type": "stream",
          "name": "stdout",
          "text": [
            "함수 이름: <function add at 0x7f343d863550>\n",
            "Help on function add in module __main__:\n",
            "\n",
            "add(a, b)\n",
            "    두 수 a, b를 더한값을 리턴하는 함수\n",
            "\n"
          ]
        }
      ]
    },
    {
      "cell_type": "markdown",
      "source": [
        "**5-3 operator module**\n",
        "\n",
        "*    itemgetter()\n",
        "\n",
        "https://docs.python.org/ko/3/library/operator.html"
      ],
      "metadata": {
        "id": "30UG5B_M_fp3"
      }
    },
    {
      "cell_type": "code",
      "source": [
        "from operator import itemgetter, attrgetter\n",
        "\n",
        "students = [ #data type  = list\n",
        "    (\"jane\", 22, 'A'),\n",
        "    (\"dave\", 32, 'B'),\n",
        "    (\"sally\", 17, 'B'),\n",
        "]\n",
        "\n",
        "result = sorted(students, key=itemgetter(1))\n",
        "print(\"list:\", result)\n",
        "\n",
        "students = [ #data type = dict\n",
        "    {\"name\": \"jane\", \"age\": 22, \"grade\": 'A'},\n",
        "    {\"name\": \"dave\", \"age\": 32, \"grade\": 'B'},\n",
        "    {\"name\": \"sally\", \"age\": 17, \"grade\": 'B'},\n",
        "]\n",
        "\n",
        "result = sorted(students, key=itemgetter('age'))\n",
        "print(\"dict:\", result)\n",
        "\n",
        "#class라면 attrgetter()\n",
        "\n",
        "class Student:\n",
        "    def __init__(self, name, age, grade):\n",
        "        self.name = name\n",
        "        self.age = age\n",
        "        self.grade = grade\n",
        "\n",
        "\n",
        "students = [\n",
        "    Student('jane', 22, 'A'),\n",
        "    Student('dave', 32, 'B'),\n",
        "    Student('sally', 17, 'B'),\n",
        "]\n",
        "\n",
        "result = sorted(students, key=attrgetter('age'))\n",
        "print(\"class:\", result)"
      ],
      "metadata": {
        "colab": {
          "base_uri": "https://localhost:8080/"
        },
        "id": "XB7j8joUBNzd",
        "outputId": "edbd7287-a2c6-4799-8448-19a27293569e"
      },
      "execution_count": null,
      "outputs": [
        {
          "output_type": "stream",
          "name": "stdout",
          "text": [
            "list: [('sally', 17, 'B'), ('jane', 22, 'A'), ('dave', 32, 'B')]\n",
            "dict: [{'name': 'sally', 'age': 17, 'grade': 'B'}, {'name': 'jane', 'age': 22, 'grade': 'A'}, {'name': 'dave', 'age': 32, 'grade': 'B'}]\n",
            "class: [<__main__.Student object at 0x7f33ee76fb50>, <__main__.Student object at 0x7f346b7b17f0>, <__main__.Student object at 0x7f33ee76fe50>]\n"
          ]
        }
      ]
    },
    {
      "cell_type": "code",
      "source": [],
      "metadata": {
        "id": "3a1CtdD4By8k"
      },
      "execution_count": null,
      "outputs": []
    }
  ]
}