{
  "nbformat": 4,
  "nbformat_minor": 0,
  "metadata": {
    "colab": {
      "provenance": [],
      "authorship_tag": "ABX9TyNZsjghhAjQXVuZ2DUvzzCM",
      "include_colab_link": true
    },
    "kernelspec": {
      "name": "python3",
      "display_name": "Python 3"
    },
    "language_info": {
      "name": "python"
    }
  },
  "cells": [
    {
      "cell_type": "markdown",
      "metadata": {
        "id": "view-in-github",
        "colab_type": "text"
      },
      "source": [
        "<a href=\"https://colab.research.google.com/github/imhyunho99/2023-1--Advanced_python/blob/main/pylib_044~053.ipynb\" target=\"_parent\"><img src=\"https://colab.research.google.com/assets/colab-badge.svg\" alt=\"Open In Colab\"/></a>"
      ]
    },
    {
      "cell_type": "markdown",
      "source": [
        "#07 Data control\n",
        "*7-1 pickle module*\n",
        "\n",
        "\n",
        "\n",
        "https://docs.python.org/ko/3/library/pickle.html"
      ],
      "metadata": {
        "id": "KVJlBpzqrzg1"
      }
    },
    {
      "cell_type": "code",
      "source": [
        "import pickle\n",
        "\n",
        "data = {}\n",
        "data[1] = {'no': 1, 'subject': '안녕 피클', 'content': '피클은 매우 간단합니다.'}\n",
        "\n",
        "with open('data.p', 'wb') as f: #Binary writing\n",
        "  pickle.dump(data, f)"
      ],
      "metadata": {
        "id": "UEXkpMPdrzMG"
      },
      "execution_count": 1,
      "outputs": []
    },
    {
      "cell_type": "code",
      "source": [
        "!cat data.p"
      ],
      "metadata": {
        "id": "x1uE40ECs7KV",
        "colab": {
          "base_uri": "https://localhost:8080/",
          "height": 0
        },
        "outputId": "253ab6ac-fd03-49f0-faee-c5f94225a02e"
      },
      "execution_count": 2,
      "outputs": [
        {
          "output_type": "stream",
          "name": "stdout",
          "text": [
            "�\u0004�Y\u0000\u0000\u0000\u0000\u0000\u0000\u0000}�K\u0001}�(�\u0002no�K\u0001�\u0007subject��\r안녕 피클��\u0007content��!피클은 매우 간단합니다.�us."
          ]
        }
      ]
    },
    {
      "cell_type": "code",
      "source": [
        "with open(\"data.p\", 'rb') as f:\n",
        "  load_data = pickle.load(f)\n"
      ],
      "metadata": {
        "id": "fMm-YoMKt9IS"
      },
      "execution_count": 6,
      "outputs": []
    },
    {
      "cell_type": "code",
      "source": [
        "import pickle\n",
        "\n",
        "\n",
        "def get_all_data():\n",
        "    try:\n",
        "        with open(\"data.p\", 'rb') as f: \n",
        "            return pickle.load(f)\n",
        "    except FileNotFoundError:\n",
        "        return {}\n",
        "\n",
        "\n",
        "def add_data(no, subject, content):\n",
        "    data = get_all_data()\n",
        "    assert no not in data\n",
        "    data[no] = {'no': no, 'subject': subject, 'content': content}\n",
        "    with open('data.p', 'wb') as f:\n",
        "        pickle.dump(data, f)\n",
        "\n",
        "\n",
        "def get_data(no):\n",
        "    data = get_all_data()\n",
        "    return data[no]\n",
        "\n",
        "\n",
        "# 데이터저장\n",
        "#add_data(1, '안녕 피클', '피클은 매우 간단합니다.') AssertionError: \n",
        "\n",
        "# 데이터조회\n",
        "data = get_data(1)\n",
        "print(data['no'])\n",
        "print(data['subject'])\n",
        "print(data['content'])\n",
        "\n",
        "\n",
        "add_data(2, '잘자 피클', '피클은 멋있어.')\n"
      ],
      "metadata": {
        "colab": {
          "base_uri": "https://localhost:8080/",
          "height": 0
        },
        "id": "kWOWeDIFuLZr",
        "outputId": "cb617534-87e8-49e0-ee66-06cf43a68951"
      },
      "execution_count": 5,
      "outputs": [
        {
          "output_type": "stream",
          "name": "stdout",
          "text": [
            "1\n",
            "안녕 피클\n",
            "피클은 매우 간단합니다.\n"
          ]
        }
      ]
    },
    {
      "cell_type": "code",
      "source": [
        "get_all_data()"
      ],
      "metadata": {
        "colab": {
          "base_uri": "https://localhost:8080/",
          "height": 0
        },
        "id": "pM-w8hZPzgCq",
        "outputId": "0afc8088-7dae-4157-a841-70ec9c009506"
      },
      "execution_count": 6,
      "outputs": [
        {
          "output_type": "execute_result",
          "data": {
            "text/plain": [
              "{1: {'no': 1, 'subject': '안녕 피클', 'content': '피클은 매우 간단합니다.'},\n",
              " 2: {'no': 2, 'subject': '잘자 피클', 'content': '피클은 멋있어.'}}"
            ]
          },
          "metadata": {},
          "execution_count": 6
        }
      ]
    },
    {
      "cell_type": "markdown",
      "source": [
        "*7-2 copyreg module*\n",
        "\n",
        "\n",
        "*   copyreg.pickle()\n",
        "\n",
        "\n"
      ],
      "metadata": {
        "id": "y7BXswfauRp3"
      }
    },
    {
      "cell_type": "code",
      "source": [
        "import pickle\n",
        "\n",
        "class Student:\n",
        "    def __init__(self, name, age):\n",
        "        self.name = name\n",
        "        self.age = age\n",
        "\n",
        "\n",
        "a = Student('임철희', 27)\n",
        "\n",
        "with open('student.p', 'wb') as f:\n",
        "    pickle.dump(a, f)"
      ],
      "metadata": {
        "id": "ZEbywxPaxkQi"
      },
      "execution_count": 11,
      "outputs": []
    },
    {
      "cell_type": "code",
      "source": [
        "#만약 새로운 속성이 추가되었다면? ==> \n",
        "#student.dummy\n",
        "#write code\n",
        "\n",
        "import pickle\n",
        "import copyreg\n",
        "\n",
        "\n",
        "class Student:\n",
        "    def __init__(self, name, age):\n",
        "        self.name = name\n",
        "        self.age = age\n",
        "\n",
        "\n",
        "def pickle_student(student):\n",
        "    kwargs = student.__dict__\n",
        "    return unpickle_student, (kwargs, )\n",
        "\n",
        "\n",
        "def unpickle_student(kwargs):\n",
        "    return Student(**kwargs)\n",
        "\n",
        "\n",
        "copyreg.pickle(Student, pickle_student)\n",
        "\n",
        "a = Student('임철희', 27)\n",
        "with open('student.p', 'wb') as f:\n",
        "    pickle.dump(a, f)"
      ],
      "metadata": {
        "id": "sGDXXCBVyNmy"
      },
      "execution_count": 16,
      "outputs": []
    },
    {
      "cell_type": "code",
      "source": [
        "class Student:\n",
        "    def __init__(self, name, age):\n",
        "        self.name = name\n",
        "        self.age = age\n",
        "        self.dummy = 'dummy'  # dummy 속성을 새로 추가!\n",
        "\n",
        "\n",
        "def pickle_student(student):\n",
        "    kwargs = student.__dict__\n",
        "    return unpickle_student, (kwargs, )\n",
        "\n",
        "\n",
        "def unpickle_student(kwargs):\n",
        "    return Student(**kwargs)\n",
        "\n",
        "\n",
        "copyreg.pickle(Student, pickle_student)\n",
        "\n",
        "with open('student.p', 'rb') as f:\n",
        "    student = pickle.load(f)  # unpickle_student() 함수를 호출한다.\n",
        "\n",
        "student.__dict__  # 오류가 발생하지 않고 'dummy' 가 출력된다."
      ],
      "metadata": {
        "colab": {
          "base_uri": "https://localhost:8080/",
          "height": 0
        },
        "id": "0kowXqRN057I",
        "outputId": "312c7b61-5346-4c13-acb1-aa26aea472fe"
      },
      "execution_count": 18,
      "outputs": [
        {
          "output_type": "execute_result",
          "data": {
            "text/plain": [
              "{'name': '임철희', 'age': 27, 'dummy': 'dummy'}"
            ]
          },
          "metadata": {},
          "execution_count": 18
        }
      ]
    },
    {
      "cell_type": "markdown",
      "source": [
        "*7-3\n",
        " shelve module*\n",
        "\n",
        "\n",
        "*   copyreg.pickle()\n",
        "\n",
        "\n"
      ],
      "metadata": {
        "id": "Z07MHqE31yK-"
      }
    },
    {
      "cell_type": "code",
      "source": [
        "import shelve\n",
        "\n",
        "\n",
        "def save(key, value):\n",
        "    with shelve.open('shelve.dat') as d:\n",
        "        d[key] = value\n",
        "\n",
        "\n",
        "def get(key):\n",
        "    with shelve.open('shelve.dat') as d:\n",
        "        return d[key]\n",
        "\n",
        "\n",
        "save('number', [1, 2, 3, 4, 5])\n",
        "print(get('number'))  # [1, 2, 3, ,4, 5] 출력|\n",
        "save('number', [1, 2, 3])\n",
        "get('number')"
      ],
      "metadata": {
        "colab": {
          "base_uri": "https://localhost:8080/",
          "height": 0
        },
        "id": "DzrGx7YU2_kz",
        "outputId": "3a19c329-96d1-433e-9200-560aa4e8d136"
      },
      "execution_count": 20,
      "outputs": [
        {
          "output_type": "stream",
          "name": "stdout",
          "text": [
            "[1, 2, 3, 4, 5]\n"
          ]
        },
        {
          "output_type": "execute_result",
          "data": {
            "text/plain": [
              "[1, 2, 3]"
            ]
          },
          "metadata": {},
          "execution_count": 20
        }
      ]
    },
    {
      "cell_type": "markdown",
      "source": [
        "*7-4 sqlite3 module*\n",
        "\n",
        "\n",
        "*    sqlite3.connect()\n",
        "*    c.execute()\n",
        "*    c.fetchall(),c.fetchone()\n",
        "*    conn.commit()\n",
        "*    conn.rollback()\n",
        "*    conn.close()\n",
        "\n",
        "\n",
        "\n",
        "\n",
        "https://sqlitebrowser.org/dl"
      ],
      "metadata": {
        "id": "ia9vvAVI3Fkn"
      }
    },
    {
      "cell_type": "code",
      "source": [
        "import sqlite3\n",
        "conn = sqlite3.connect('blog.db')\n",
        "\n",
        "c = conn.cursor()\n",
        "c.execute('''CREATE TABLE blog (id integer PRIMARY KEY, subject text, content text, date text)''')\n",
        "\n",
        "c.execute(\"INSERT INTO blog VALUES (1, '첫 번째 블로그', '첫 번째 포스팅입니다.', '201914074')\")\n",
        "c.execute(\"INSERT INTO blog VALUES (2, '두 번째 블로그', '두 번째 포스팅입니다.', '201914074')\")\n",
        "\n",
        "_id = 3\n",
        "subject = \"세 번째 블로그\"\n",
        "content = \"세 번째 블로그입니다.\"\n",
        "date = \"20190827\"\n",
        "c.execute(\"INSERT INTO blog VALUES (%d, '%s', '%s', %s)\" % (_id, subject, content, date))\n",
        "\n",
        "_id = 4\n",
        "subject = \"네 번째 블로그\"\n",
        "content = \"네 번째 블로그입니다.\"\n",
        "date = \"20190827\"\n",
        "c.execute(\"INSERT INTO blog VALUES (?, ?, ?, ?)\",  (_id, subject, content, date))\n",
        "\n",
        "c.execute(\"INSERT INTO blog VALUES (:id, :subject, :content, :date)\", {\"id\": 5, \"subject\": \"다섯 번째 블로그\", \"content\": \"다섯 번째 블로그입니다.\", \"date\": \"20190827\"})"
      ],
      "metadata": {
        "id": "RjUpuq7y-T_C"
      },
      "execution_count": null,
      "outputs": []
    },
    {
      "cell_type": "code",
      "source": [
        "c.execute('SELECT * FROM blog')\n",
        "all = c.fetchall()\n",
        "all"
      ],
      "metadata": {
        "colab": {
          "base_uri": "https://localhost:8080/",
          "height": 0
        },
        "id": "g_jM2mJd-_Rm",
        "outputId": "5c07322c-fdc2-4454-fbd9-9d524fe1ec1e"
      },
      "execution_count": 89,
      "outputs": [
        {
          "output_type": "execute_result",
          "data": {
            "text/plain": [
              "[(1, '최초의 블로그', '첫 번째 포스팅입니다.', '201914074'),\n",
              " (2, '두 번째 블로그', '두 번째 포스팅입니다.', '201914074'),\n",
              " (3, '세 번째 블로그', '세 번째 블로그입니다.', '20190827'),\n",
              " (4, '네 번째 블로그', '네 번째 블로그입니다.', '20190827')]"
            ]
          },
          "metadata": {},
          "execution_count": 89
        }
      ]
    },
    {
      "cell_type": "code",
      "source": [
        "all = c.fetchall()\n",
        "all #이미 쿼리를 한번 날려서 더이상 불러올게 없음"
      ],
      "metadata": {
        "colab": {
          "base_uri": "https://localhost:8080/",
          "height": 0
        },
        "id": "fZhxgwEtBR4C",
        "outputId": "a3d4122d-8b85-497e-9343-34918dd9e5e2"
      },
      "execution_count": 91,
      "outputs": [
        {
          "output_type": "execute_result",
          "data": {
            "text/plain": [
              "[]"
            ]
          },
          "metadata": {},
          "execution_count": 91
        }
      ]
    },
    {
      "cell_type": "code",
      "source": [
        "c.execute(\"UPDATE blog SET subject='최초의 블로그' WHERE id=1\")\n"
      ],
      "metadata": {
        "colab": {
          "base_uri": "https://localhost:8080/",
          "height": 0
        },
        "id": "C5LFOrnYCWv3",
        "outputId": "3c1e00ab-4f65-4cc5-f9dc-9cca290d5e74"
      },
      "execution_count": 92,
      "outputs": [
        {
          "output_type": "execute_result",
          "data": {
            "text/plain": [
              "<sqlite3.Cursor at 0x7f9b32df1ea0>"
            ]
          },
          "metadata": {},
          "execution_count": 92
        }
      ]
    },
    {
      "cell_type": "code",
      "source": [
        "c.execute('SELECT * FROM blog WHERE id=1')\n",
        "one = c.fetchone()\n",
        "print(one)"
      ],
      "metadata": {
        "colab": {
          "base_uri": "https://localhost:8080/",
          "height": 0
        },
        "id": "Xk2IHa9aC7Vc",
        "outputId": "bf228e1e-5e6d-4130-e833-af2ba65eb1e1"
      },
      "execution_count": 93,
      "outputs": [
        {
          "output_type": "stream",
          "name": "stdout",
          "text": [
            "(1, '최초의 블로그', '첫 번째 포스팅입니다.', '201914074')\n"
          ]
        }
      ]
    },
    {
      "cell_type": "code",
      "source": [
        "c.execute('DELETE FROM blog WHERE id=5')#계속 커서 위치 반환해주는중"
      ],
      "metadata": {
        "colab": {
          "base_uri": "https://localhost:8080/",
          "height": 0
        },
        "id": "lOSNJyivDDed",
        "outputId": "f335b74b-f8c5-40c0-99dc-c47d76f03f5d"
      },
      "execution_count": 94,
      "outputs": [
        {
          "output_type": "execute_result",
          "data": {
            "text/plain": [
              "<sqlite3.Cursor at 0x7f9b32df1ea0>"
            ]
          },
          "metadata": {},
          "execution_count": 94
        }
      ]
    },
    {
      "cell_type": "code",
      "source": [
        "conn.commit()\n",
        "#conn.rollback() 커밋 전상태로 롤백"
      ],
      "metadata": {
        "id": "lFdnH3ibDH4l"
      },
      "execution_count": 95,
      "outputs": []
    },
    {
      "cell_type": "code",
      "source": [
        "conn.close()"
      ],
      "metadata": {
        "id": "QQPK1tI6DbXo"
      },
      "execution_count": 96,
      "outputs": []
    },
    {
      "cell_type": "code",
      "source": [
        "conn = sqlite3.connect('blog.db')\n",
        "c = conn.cursor()\n",
        "c.execute(\"INSERT INTO blog (subject, content, date) VALUES (?, ?, ?)\",(\"자동증가\", \"자동증가 블로그\", \"20191030\"))\n",
        "all = c.fetchall()"
      ],
      "metadata": {
        "id": "YYza4liKDxF3"
      },
      "execution_count": 99,
      "outputs": []
    },
    {
      "cell_type": "code",
      "source": [
        "import sqlite3\n",
        "import time\n",
        "#데코레이터를 사용하면 확실히 짧아진다.\n",
        "def with_cursor(original_func):\n",
        "    def wrapper(*args, **kwargs):\n",
        "        conn = sqlite3.connect('blog.db')\n",
        "        conn.row_factory = sqlite3.Row\n",
        "        c = conn.cursor()\n",
        "        rv = original_func(c, *args, **kwargs)\n",
        "        conn.commit()\n",
        "        conn.close()            \n",
        "        return rv\n",
        "    return wrapper\n",
        "\n",
        "\n",
        "@with_cursor\n",
        "def get_blog_list(c):\n",
        "    c.execute(\"SELECT * FROM blog\")\n",
        "    return c.fetchall()\n",
        "\n",
        "\n",
        "@with_cursor\n",
        "def add_blog(c, subject, content):\n",
        "    c.execute(\"INSERT INTO blog (subject, content, date) VALUES (?, ?, ?)\", \n",
        "        (subject, content, time.strftime('%Y%m%d')))\n",
        "\n",
        "\n",
        "@with_cursor\n",
        "def read_blog(c, _id):\n",
        "    c.execute(\"SELECT * FROM blog WHERE id=?\", (_id,))\n",
        "    return c.fetchone()\n",
        "\n",
        "\n",
        "@with_cursor\n",
        "def modify_blog(c, _id, subject, content):\n",
        "    c.execute(\"UPDATE blog SET subject=?, content=? WHERE id=?\", \n",
        "        (subject, content, _id))\n",
        "\n",
        "\n",
        "@with_cursor\n",
        "def remove_blog(c, _id):\n",
        "    c.execute(\"DELETE FROM blog WHERE id=?\", (_id,))"
      ],
      "metadata": {
        "id": "iYlvY5_PG0lj"
      },
      "execution_count": 100,
      "outputs": []
    },
    {
      "cell_type": "code",
      "source": [
        "for blog in get_blog_list():\n",
        "    print(blog)\n",
        "    print(blog[\"subject\"])"
      ],
      "metadata": {
        "colab": {
          "base_uri": "https://localhost:8080/",
          "height": 0
        },
        "id": "ONBbgFyBIs4f",
        "outputId": "fd78cc04-a5d1-4bbb-ea9f-149a50b2b196"
      },
      "execution_count": 101,
      "outputs": [
        {
          "output_type": "stream",
          "name": "stdout",
          "text": [
            "<sqlite3.Row object at 0x7f9b32df5950>\n",
            "최초의 블로그\n",
            "<sqlite3.Row object at 0x7f9b32df5710>\n",
            "두 번째 블로그\n",
            "<sqlite3.Row object at 0x7f9b32df5330>\n",
            "세 번째 블로그\n",
            "<sqlite3.Row object at 0x7f9b32df5350>\n",
            "네 번째 블로그\n"
          ]
        }
      ]
    },
    {
      "cell_type": "code",
      "source": [
        "read_blog(4)"
      ],
      "metadata": {
        "colab": {
          "base_uri": "https://localhost:8080/",
          "height": 0
        },
        "id": "kN5E2G_KJGhY",
        "outputId": "bf0894ff-3ab3-4ac7-e064-e8ec99f0cb83"
      },
      "execution_count": 102,
      "outputs": [
        {
          "output_type": "execute_result",
          "data": {
            "text/plain": [
              "<sqlite3.Row at 0x7f9b32df58f0>"
            ]
          },
          "metadata": {},
          "execution_count": 102
        }
      ]
    },
    {
      "cell_type": "code",
      "source": [
        "get_blog_list()"
      ],
      "metadata": {
        "colab": {
          "base_uri": "https://localhost:8080/",
          "height": 0
        },
        "id": "uKXOjMgmJRVc",
        "outputId": "87aba334-5605-4044-aa3b-936b74ce89be"
      },
      "execution_count": 87,
      "outputs": [
        {
          "output_type": "execute_result",
          "data": {
            "text/plain": [
              "[<sqlite3.Row at 0x7f9b32e022f0>,\n",
              " <sqlite3.Row at 0x7f9b32e028f0>,\n",
              " <sqlite3.Row at 0x7f9b32df5030>,\n",
              " <sqlite3.Row at 0x7f9b32df5050>]"
            ]
          },
          "metadata": {},
          "execution_count": 87
        }
      ]
    },
    {
      "cell_type": "markdown",
      "source": [
        "#07 Data Zip and Store \n",
        "\n",
        "\n",
        "*   zlib module\n",
        "*   gzip module\n",
        "*   bz2 module\n",
        "*   lzma module\n",
        "*   zipfile module\n",
        "*   tarfile module\n",
        "\n",
        "\n"
      ],
      "metadata": {
        "id": "Q8VGYaRGKI4R"
      }
    },
    {
      "cell_type": "code",
      "source": [
        "import zlib\n",
        "#인코딩 방식을 정해줘야함\n",
        "\n",
        "data = \"Life is too short, You need python.\" * 10000 #대략 10000*35개개\n",
        "compress_data = zlib.compress(data.encode(encoding='utf-8')) #압축하고 인코딩\n",
        "print(len(compress_data))  # 1077 출력\n",
        "\n",
        "org_data = zlib.decompress(compress_data).decode('utf-8') #압축풀고 디코딩\n",
        "print(len(org_data))  # 350000 출력"
      ],
      "metadata": {
        "colab": {
          "base_uri": "https://localhost:8080/",
          "height": 0
        },
        "id": "ePw8SCvCMIqB",
        "outputId": "03c79452-0513-4277-e803-7e52ef28693f"
      },
      "execution_count": 103,
      "outputs": [
        {
          "output_type": "stream",
          "name": "stdout",
          "text": [
            "1077\n",
            "350000\n"
          ]
        }
      ]
    },
    {
      "cell_type": "code",
      "source": [
        "import gzip #파일 압축\n",
        "\n",
        "data = \"Life is too short, you need python.\" * 10000\n",
        "\n",
        "with gzip.open('data.txt.gz', 'wb') as f:\n",
        "    f.write(data.encode('utf-8'))  # 저장한 파일의 크기는 1097바이트\n",
        "\n",
        "with gzip.open('data.txt.gz', 'rb') as f:\n",
        "    read_data = f.read().decode('utf-8')\n",
        "\n",
        "assert data == read_data"
      ],
      "metadata": {
        "id": "8iSt-O_4MKLD"
      },
      "execution_count": 107,
      "outputs": []
    },
    {
      "cell_type": "code",
      "source": [
        "import bz2\n",
        "#스레드 환경에서 안정\n",
        "\n",
        "data = \"Life is too short, You need python.\" * 10000\n",
        "compress_data = bz2.compress(data.encode(encoding='utf-8'))\n",
        "print(len(compress_data))  # 163 출력\n",
        "\n",
        "org_data = bz2.decompress(compress_data).decode('utf-8')\n",
        "print(len(org_data))  # 350000 출력\n",
        "\n",
        "assert data == org_data"
      ],
      "metadata": {
        "colab": {
          "base_uri": "https://localhost:8080/",
          "height": 0
        },
        "id": "n4hN21mKMclu",
        "outputId": "eff30cd6-46ba-4de4-b66a-7b92d7ccfeb7"
      },
      "execution_count": 108,
      "outputs": [
        {
          "output_type": "stream",
          "name": "stdout",
          "text": [
            "163\n",
            "350000\n"
          ]
        }
      ]
    },
    {
      "cell_type": "code",
      "source": [
        "import lzma\n",
        "#스레드 환경 불안정\n",
        "\n",
        "data = \"Life is too short, You need python.\" * 10000\n",
        "compress_data = lzma.compress(data.encode(encoding='utf-8'))\n",
        "print(len(compress_data))  # 220 출력\n",
        "\n",
        "org_data = lzma.decompress(compress_data).decode('utf-8')\n",
        "print(len(org_data))  # 350000 출력\n",
        "\n",
        "assert data == org_data"
      ],
      "metadata": {
        "colab": {
          "base_uri": "https://localhost:8080/",
          "height": 0
        },
        "id": "T4XOqW6CMxjS",
        "outputId": "b9cdcd01-9e6b-4246-cb68-2464c1152e0a"
      },
      "execution_count": 109,
      "outputs": [
        {
          "output_type": "stream",
          "name": "stdout",
          "text": [
            "220\n",
            "350000\n"
          ]
        }
      ]
    },
    {
      "cell_type": "code",
      "source": [
        "!ehco > a.txt\n",
        "!ehco > b.txt\n",
        "!ehco > c.txt"
      ],
      "metadata": {
        "colab": {
          "base_uri": "https://localhost:8080/",
          "height": 0
        },
        "id": "HcRVxEJaOON0",
        "outputId": "563061a1-e563-48e3-a201-63ece1cbe978"
      },
      "execution_count": 121,
      "outputs": [
        {
          "output_type": "stream",
          "name": "stdout",
          "text": [
            "/bin/bash: ehco: command not found\n",
            "/bin/bash: ehco: command not found\n",
            "/bin/bash: ehco: command not found\n"
          ]
        }
      ]
    },
    {
      "cell_type": "code",
      "source": [
        "import zipfile\n",
        "\n",
        "# 파일 합치기\n",
        "with zipfile.ZipFile('mytext.zip', 'w') as myzip:\n",
        "    myzip.write('a.txt')\n",
        "    myzip.write('b.txt')\n",
        "    myzip.write('c.txt')\n",
        "\n",
        "# 해제하기\n",
        "with zipfile.ZipFile('mytext.zip') as myzip:\n",
        "    myzip.extractall()\n"
      ],
      "metadata": {
        "id": "cov0m2G8Mxv1"
      },
      "execution_count": 122,
      "outputs": []
    },
    {
      "cell_type": "code",
      "source": [
        "import tarfile\n",
        "#확장자를 추가하면 그 알고리즘으로 압축해줌줌\n",
        "with tarfile.open('mytext.tar', 'w') as mytar:\n",
        "    mytar.add('a.txt')\n",
        "    mytar.add('b.txt')\n",
        "    mytar.add('c.txt')\n",
        "\n",
        "# 여러파일 해제하기\n",
        "with tarfile.open('mytext.tar') as mytar:\n",
        "    mytar.extractall()"
      ],
      "metadata": {
        "id": "xQRavP24NQVZ"
      },
      "execution_count": 123,
      "outputs": []
    },
    {
      "cell_type": "code",
      "source": [],
      "metadata": {
        "id": "i93lWJfPObff"
      },
      "execution_count": null,
      "outputs": []
    }
  ]
}