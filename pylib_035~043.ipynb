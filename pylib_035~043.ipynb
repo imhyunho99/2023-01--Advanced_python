{
  "nbformat": 4,
  "nbformat_minor": 0,
  "metadata": {
    "colab": {
      "provenance": [],
      "authorship_tag": "ABX9TyMTQoPkEFuqHFrOjpOjnLgU",
      "include_colab_link": true
    },
    "kernelspec": {
      "name": "python3",
      "display_name": "Python 3"
    },
    "language_info": {
      "name": "python"
    }
  },
  "cells": [
    {
      "cell_type": "markdown",
      "metadata": {
        "id": "view-in-github",
        "colab_type": "text"
      },
      "source": [
        "<a href=\"https://colab.research.google.com/github/imhyunho99/2023-1--Advanced_python/blob/main/pylib_035~043.ipynb\" target=\"_parent\"><img src=\"https://colab.research.google.com/assets/colab-badge.svg\" alt=\"Open In Colab\"/></a>"
      ]
    },
    {
      "cell_type": "markdown",
      "source": [
        "###**06 File and Directory**"
      ],
      "metadata": {
        "id": "4v5UrMBJpYba"
      }
    },
    {
      "cell_type": "markdown",
      "source": [
        "**6-1  pathlib module**\n",
        "\n",
        "\n",
        "*   pathlib.Path.cwd()\n",
        "*   pathOBJ.glob()\n",
        "\n",
        "https://docs.python.org/ko/3/library/pathlib.html\n",
        "\n",
        "\n",
        "\n"
      ],
      "metadata": {
        "id": "iu2s2I9AqDLu"
      }
    },
    {
      "cell_type": "code",
      "source": [
        "!echo \"hello1\" > test[0].txt\n",
        "!echo \"hello2\" > test[1].txt\n",
        "!echo \"hello3\" > test[2].txt\n",
        "\n",
        "#!mkdir archive"
      ],
      "metadata": {
        "id": "GHmfWxJUr4eJ"
      },
      "execution_count": null,
      "outputs": []
    },
    {
      "cell_type": "code",
      "source": [
        "import glob\n",
        "import os\n",
        "import shutil\n",
        "\n",
        "\n",
        "for file_path in glob.glob('%s/*.txt' % os.getcwd()):\n",
        "    parent = os.path.dirname(file_path)\n",
        "    filename = os.path.basename(file_path)\n",
        "    new_path = os.path.join(parent, 'test')\n",
        "    if not os.path.exists(new_path):\n",
        "      os.mkdir(new_path)\n",
        "    shutil.move(file_path, new_path)\n",
        "os.getcwd() #기본 하위 경로 /\n"
      ],
      "metadata": {
        "colab": {
          "base_uri": "https://localhost:8080/",
          "height": 35
        },
        "id": "DDo9yOuMqoPA",
        "outputId": "b8d8b88e-44bb-4409-b84c-7e742262136e"
      },
      "execution_count": null,
      "outputs": [
        {
          "output_type": "execute_result",
          "data": {
            "text/plain": [
              "'/content'"
            ],
            "application/vnd.google.colaboratory.intrinsic+json": {
              "type": "string"
            }
          },
          "metadata": {},
          "execution_count": 13
        }
      ]
    },
    {
      "cell_type": "code",
      "source": [
        "glob.glob('%s/*.txt' %os.getcwd())"
      ],
      "metadata": {
        "colab": {
          "base_uri": "https://localhost:8080/"
        },
        "id": "8L2iiADmvAsX",
        "outputId": "a8fc553f-d6fe-4467-8a2a-1ab491eaab49"
      },
      "execution_count": null,
      "outputs": [
        {
          "output_type": "execute_result",
          "data": {
            "text/plain": [
              "[]"
            ]
          },
          "metadata": {},
          "execution_count": 16
        }
      ]
    },
    {
      "cell_type": "code",
      "source": [
        "!mkdir archive2"
      ],
      "metadata": {
        "id": "UzKLRwS5vfGJ"
      },
      "execution_count": null,
      "outputs": []
    },
    {
      "cell_type": "code",
      "source": [
        "import pathlib\n",
        "\n",
        "for p in pathlib.Path.cwd().glob('*.txt'):\n",
        "    new_p = p.parent.joinpath('archive2', p.name)\n",
        "    p.replace(new_p)"
      ],
      "metadata": {
        "id": "_aT9e8VVqaPV"
      },
      "execution_count": null,
      "outputs": []
    },
    {
      "cell_type": "code",
      "source": [
        "!echo \"readme\" >README.md"
      ],
      "metadata": {
        "id": "cUoEYHEuvhlT"
      },
      "execution_count": null,
      "outputs": []
    },
    {
      "cell_type": "code",
      "source": [
        "!ls -al"
      ],
      "metadata": {
        "colab": {
          "base_uri": "https://localhost:8080/"
        },
        "id": "oB40u02jwK_5",
        "outputId": "6f74c645-f932-4485-d2d1-d6b5a41f1bdc"
      },
      "execution_count": null,
      "outputs": [
        {
          "output_type": "stream",
          "name": "stdout",
          "text": [
            "total 32\n",
            "drwxr-xr-x 1 root root 4096 Apr 11 00:39 .\n",
            "drwxr-xr-x 1 root root 4096 Apr 11 00:15 ..\n",
            "drwxr-xr-x 2 root root 4096 Apr 11 00:25 archive\n",
            "drwxr-xr-x 2 root root 4096 Apr 11 00:36 archive2\n",
            "drwxr-xr-x 4 root root 4096 Apr  7 13:29 .config\n",
            "-rw-r--r-- 1 root root    7 Apr 11 00:39 README.md\n",
            "drwxr-xr-x 1 root root 4096 Apr  7 13:30 sample_data\n",
            "drwxr-xr-x 2 root root 4096 Apr 11 00:32 test\n"
          ]
        }
      ]
    },
    {
      "cell_type": "code",
      "source": [
        "import collections, pathlib\n",
        "\n",
        "for p in pathlib.Path.cwd().iterdir():\n",
        "  print(p)\n",
        "\n",
        "collections.Counter([p.suffix for p in pathlib.Path.cwd().iterdir()])"
      ],
      "metadata": {
        "colab": {
          "base_uri": "https://localhost:8080/"
        },
        "id": "wGi4rZMxwNLa",
        "outputId": "82f6a984-9867-4742-e28c-0f230c699aff"
      },
      "execution_count": null,
      "outputs": [
        {
          "output_type": "stream",
          "name": "stdout",
          "text": [
            "/content/.config\n",
            "/content/test\n",
            "/content/README.md\n",
            "/content/archive\n",
            "/content/archive2\n",
            "/content/sample_data\n"
          ]
        },
        {
          "output_type": "execute_result",
          "data": {
            "text/plain": [
              "Counter({'': 5, '.md': 1})"
            ]
          },
          "metadata": {},
          "execution_count": 22
        }
      ]
    },
    {
      "cell_type": "markdown",
      "source": [
        "**6-2  os.path module**\n",
        "\n",
        "\n",
        "*   os.path.isdir()\n",
        "*   os.path.isfile()\n",
        "*   os.path.splitext()\n",
        "*   os.path.join()\n",
        "*   os.listdir()\n",
        "https://docs.python.org/ko/3/library/os.path.html\n",
        "\n",
        "\n",
        "\n"
      ],
      "metadata": {
        "id": "R3bQxEmewYma"
      }
    },
    {
      "cell_type": "code",
      "source": [
        "import os\n",
        "def search(dirname):\n",
        "  filenames = os.listdir(dirname)\n",
        "  filepath = os.path.join(dirname, filename)\n",
        "  for filenames in filenames:\n",
        "      if os.path.isfile(filename):\n",
        "        name,ext = os.path.splitext(filename)\n",
        "        if ext == '.py' or ext == '.txt':\n",
        "          print(filepath)\n",
        "      elif os.path.isdir(filepath):\n",
        "        search(filepath)\n",
        "  print(filenames)\n",
        "search('.')\n"
      ],
      "metadata": {
        "colab": {
          "base_uri": "https://localhost:8080/"
        },
        "id": "79X-OJp_yIpW",
        "outputId": "e1089bae-c1a4-4803-9f5d-cc4a532b8668"
      },
      "execution_count": null,
      "outputs": [
        {
          "output_type": "stream",
          "name": "stdout",
          "text": [
            "./test[1].txt\n",
            "./test[1].txt\n",
            "./test[1].txt\n",
            "./test[1].txt\n",
            "./test[1].txt\n",
            "./test[1].txt\n",
            "./test[1].txt\n",
            "./test[1].txt\n",
            "./test[1].txt\n",
            "sample_data\n"
          ]
        }
      ]
    },
    {
      "cell_type": "code",
      "source": [
        "import pathlib\n",
        "\n",
        "def search(dirname):\n",
        "    for p in pathlib.Path(dirname).rglob('*.txt'):\n",
        "        print(p)\n",
        "search('.')"
      ],
      "metadata": {
        "colab": {
          "base_uri": "https://localhost:8080/"
        },
        "id": "CFUP36bpyV7x",
        "outputId": "571b3be2-8ca1-4ee6-977f-0aced04796eb"
      },
      "execution_count": null,
      "outputs": [
        {
          "output_type": "stream",
          "name": "stdout",
          "text": [
            "test[0].txt\n",
            "test[2].txt\n",
            "test[1].txt\n",
            "test/test[0].txt\n",
            "test/test[2].txt\n",
            "test/test[1].txt\n",
            "archive/test[0].txt\n",
            "archive/test[2].txt\n",
            "archive/test[1].txt\n",
            "archive/test[3].txt\n"
          ]
        }
      ]
    },
    {
      "cell_type": "markdown",
      "source": [
        "**6-2  fileinput module**\n",
        "\n",
        "\n",
        "*   fileinput.input(glob.glob())\n"
      ],
      "metadata": {
        "id": "XE4fLo6uzaX_"
      }
    },
    {
      "cell_type": "code",
      "source": [
        "textfiles=[]\n",
        "filenames = os.listdir(os.getcwd())\n",
        "for filename in filenames:\n",
        "  filepath = os.path.join(os.getcwd(), filename)\n",
        "  if os.path.isfile(filepath):\n",
        "    name, ext = os.path.splitext(filename)\n",
        "    if ext =='.txt':\n",
        "      textfiles.append(filepath)\n"
      ],
      "metadata": {
        "id": "Brjss6sT0b6z"
      },
      "execution_count": null,
      "outputs": []
    },
    {
      "cell_type": "code",
      "source": [
        "for textfile in glob.glob('%s/*.txt' % os.getcwd()):\n",
        "  with open(textfile, 'r') as f:\n",
        "    while True:\n",
        "      line = f.readlines()\n",
        "      if not line:\n",
        "        break\n",
        "      print(line)"
      ],
      "metadata": {
        "colab": {
          "base_uri": "https://localhost:8080/"
        },
        "id": "B9XhRuwY1K1H",
        "outputId": "354a89ac-de75-4900-b055-a059410dfb68"
      },
      "execution_count": null,
      "outputs": [
        {
          "output_type": "stream",
          "name": "stdout",
          "text": [
            "['hello1\\n']\n",
            "['hello3\\n']\n",
            "['hello2\\n']\n"
          ]
        }
      ]
    },
    {
      "cell_type": "code",
      "source": [
        "import fileinput\n",
        "import glob\n",
        "\n",
        "with fileinput.input(glob.glob(\"*.txt\")) as f:\n",
        "    for line in f:\n",
        "        print(line)"
      ],
      "metadata": {
        "colab": {
          "base_uri": "https://localhost:8080/"
        },
        "id": "09rAF1de2Q9I",
        "outputId": "28e62438-cb75-4c71-d9ff-192932dbd40c"
      },
      "execution_count": null,
      "outputs": [
        {
          "output_type": "stream",
          "name": "stdout",
          "text": [
            "hello1\n",
            "\n",
            "hello3\n",
            "\n",
            "hello2\n",
            "\n"
          ]
        }
      ]
    },
    {
      "cell_type": "markdown",
      "source": [
        "**6-3  filecmp module**\n",
        "\n",
        "\n",
        "*   filecmp.dircmp()\n",
        "\n",
        "\n",
        "**beyond compare**\n"
      ],
      "metadata": {
        "id": "35Vd76rn5OHX"
      }
    },
    {
      "cell_type": "code",
      "source": [
        "import filecmp\n",
        "\n",
        "fd = filecmp.dircmp('.', 'archive')\n",
        "\n",
        "for a in fd.left_only:\n",
        "    print(\"a: %s\" % a)\n",
        "\n",
        "for b in fd.right_only:\n",
        "    print(\"b: %s\" % b)\n",
        "\n",
        "for x in fd.diff_files:\n",
        "    print(\"x: %s\" % x)\n",
        "\n",
        "for c in fd.common_files:\n",
        "  print(\"c: %s\" %c)"
      ],
      "metadata": {
        "colab": {
          "base_uri": "https://localhost:8080/"
        },
        "id": "raLyK4X45miH",
        "outputId": "be3d18ca-4fd6-44e3-a938-a8c53eb4ec6d"
      },
      "execution_count": null,
      "outputs": [
        {
          "output_type": "stream",
          "name": "stdout",
          "text": [
            "a: .config\n",
            "a: README.md\n",
            "a: archive\n",
            "a: archive2\n",
            "a: sample_data\n",
            "a: test\n",
            "b: test[3].txt\n",
            "c: test[0].txt\n",
            "c: test[1].txt\n",
            "c: test[2].txt\n"
          ]
        }
      ]
    },
    {
      "cell_type": "markdown",
      "source": [
        "**6-4  tempfile module**\n",
        "\n",
        "\n",
        "*   tempfile.TemporaryFile()\n"
      ],
      "metadata": {
        "id": "KMhqzL-L6-e-"
      }
    },
    {
      "cell_type": "code",
      "source": [
        "def sumfile(f):\n",
        "    result = 0\n",
        "    for line in f.readlines():\n",
        "        num = int(line)\n",
        "        result += num\n",
        "    return result"
      ],
      "metadata": {
        "id": "wYsUys1Z7u0w"
      },
      "execution_count": null,
      "outputs": []
    },
    {
      "cell_type": "code",
      "source": [
        "import random\n",
        "import tempfile\n",
        "\n",
        "tf = tempfile.TemporaryFile(mode='w+')\n",
        "for i in range(10):\n",
        "    num = random.randint(1, 100)\n",
        "    tf.write(str(num))\n",
        "    tf.write(\"\\n\")"
      ],
      "metadata": {
        "id": "HVpXedfS76wt"
      },
      "execution_count": null,
      "outputs": []
    },
    {
      "cell_type": "code",
      "source": [
        "tf.seek(0)  # 파일 오프셋을 처음으로 이동\n",
        "result = sumfile(tf)\n",
        "tf.close()\n",
        "\n",
        "print(result)"
      ],
      "metadata": {
        "colab": {
          "base_uri": "https://localhost:8080/"
        },
        "id": "gSmCbvF18cp1",
        "outputId": "b90e04d7-8487-40f5-f2ff-c4edf5765b15"
      },
      "execution_count": null,
      "outputs": [
        {
          "output_type": "stream",
          "name": "stdout",
          "text": [
            "594\n"
          ]
        }
      ]
    },
    {
      "cell_type": "markdown",
      "source": [
        "**6-5  glob module**\n",
        "\n",
        "\n",
        "*   glob.glob(*)\n",
        "\n",
        "*에는 패턴 입력\n"
      ],
      "metadata": {
        "id": "gRpM43SN8eGy"
      }
    },
    {
      "cell_type": "code",
      "source": [
        "import glob\n",
        "\n",
        "for filename in glob.glob(\"**/*.txt\", recursive=True):\n",
        "    print(filename)\n"
      ],
      "metadata": {
        "colab": {
          "base_uri": "https://localhost:8080/"
        },
        "id": "nRKa2Rl89YxA",
        "outputId": "2af01aa4-333d-4ba3-9b82-761b733a440f"
      },
      "execution_count": null,
      "outputs": [
        {
          "output_type": "stream",
          "name": "stdout",
          "text": [
            "test[0].txt\n",
            "test[2].txt\n",
            "test[1].txt\n",
            "test/test[0].txt\n",
            "test/test[2].txt\n",
            "test/test[1].txt\n",
            "archive/test[0].txt\n",
            "archive/test[2].txt\n",
            "archive/test[1].txt\n",
            "archive/test[3].txt\n"
          ]
        }
      ]
    },
    {
      "cell_type": "markdown",
      "source": [
        "**6-6  fnmatch module**\n",
        "\n",
        "\n",
        "*   fnmatch.fnmatch(*):\n",
        "\n",
        "*에는 패턴 입력\n"
      ],
      "metadata": {
        "id": "vLxwEYsq9ZAY"
      }
    },
    {
      "cell_type": "code",
      "source": [
        "import fnmatch\n",
        "import os\n",
        "\n",
        "for filename in os.listdir('.'):\n",
        "    if fnmatch.fnmatch(filename, 't*[0-9]*.txt'):\n",
        "        print(filename)"
      ],
      "metadata": {
        "colab": {
          "base_uri": "https://localhost:8080/"
        },
        "id": "tkTGtke0-XFA",
        "outputId": "ff56d913-9a04-404f-d8a6-d13bac6dac68"
      },
      "execution_count": null,
      "outputs": [
        {
          "output_type": "stream",
          "name": "stdout",
          "text": [
            "test[0].txt\n",
            "test[2].txt\n",
            "test[1].txt\n"
          ]
        }
      ]
    },
    {
      "cell_type": "markdown",
      "source": [
        "**6-6  linecache module**\n",
        "\n",
        "\n",
        "*   linecache.getline()\n",
        "\n",
        "\n",
        "*에는 패턴 입력\n"
      ],
      "metadata": {
        "id": "uvp1rjYh-do7"
      }
    },
    {
      "cell_type": "code",
      "source": [
        "!git clone https://github.com/pahkey/pylib"
      ],
      "metadata": {
        "colab": {
          "base_uri": "https://localhost:8080/"
        },
        "id": "sg3tv8LEAAiA",
        "outputId": "e581f3c0-eeca-4a95-871e-57c9e07b789c"
      },
      "execution_count": null,
      "outputs": [
        {
          "output_type": "stream",
          "name": "stdout",
          "text": [
            "Cloning into 'pylib'...\n",
            "remote: Enumerating objects: 171, done.\u001b[K\n",
            "remote: Counting objects:   0% (1/171)\u001b[K\rremote: Counting objects:   1% (2/171)\u001b[K\rremote: Counting objects:   2% (4/171)\u001b[K\rremote: Counting objects:   3% (6/171)\u001b[K\rremote: Counting objects:   4% (7/171)\u001b[K\rremote: Counting objects:   5% (9/171)\u001b[K\rremote: Counting objects:   6% (11/171)\u001b[K\rremote: Counting objects:   7% (12/171)\u001b[K\rremote: Counting objects:   8% (14/171)\u001b[K\rremote: Counting objects:   9% (16/171)\u001b[K\rremote: Counting objects:  10% (18/171)\u001b[K\rremote: Counting objects:  11% (19/171)\u001b[K\rremote: Counting objects:  12% (21/171)\u001b[K\rremote: Counting objects:  13% (23/171)\u001b[K\rremote: Counting objects:  14% (24/171)\u001b[K\rremote: Counting objects:  15% (26/171)\u001b[K\rremote: Counting objects:  16% (28/171)\u001b[K\rremote: Counting objects:  17% (30/171)\u001b[K\rremote: Counting objects:  18% (31/171)\u001b[K\rremote: Counting objects:  19% (33/171)\u001b[K\rremote: Counting objects:  20% (35/171)\u001b[K\rremote: Counting objects:  21% (36/171)\u001b[K\rremote: Counting objects:  22% (38/171)\u001b[K\rremote: Counting objects:  23% (40/171)\u001b[K\rremote: Counting objects:  24% (42/171)\u001b[K\rremote: Counting objects:  25% (43/171)\u001b[K\rremote: Counting objects:  26% (45/171)\u001b[K\rremote: Counting objects:  27% (47/171)\u001b[K\rremote: Counting objects:  28% (48/171)\u001b[K\rremote: Counting objects:  29% (50/171)\u001b[K\rremote: Counting objects:  30% (52/171)\u001b[K\rremote: Counting objects:  31% (54/171)\u001b[K\rremote: Counting objects:  32% (55/171)\u001b[K\rremote: Counting objects:  33% (57/171)\u001b[K\rremote: Counting objects:  34% (59/171)\u001b[K\rremote: Counting objects:  35% (60/171)\u001b[K\rremote: Counting objects:  36% (62/171)\u001b[K\rremote: Counting objects:  37% (64/171)\u001b[K\rremote: Counting objects:  38% (65/171)\u001b[K\rremote: Counting objects:  39% (67/171)\u001b[K\rremote: Counting objects:  40% (69/171)\u001b[K\rremote: Counting objects:  41% (71/171)\u001b[K\rremote: Counting objects:  42% (72/171)\u001b[K\rremote: Counting objects:  43% (74/171)\u001b[K\rremote: Counting objects:  44% (76/171)\u001b[K\rremote: Counting objects:  45% (77/171)\u001b[K\rremote: Counting objects:  46% (79/171)\u001b[K\rremote: Counting objects:  47% (81/171)\u001b[K\rremote: Counting objects:  48% (83/171)\u001b[K\rremote: Counting objects:  49% (84/171)\u001b[K\rremote: Counting objects:  50% (86/171)\u001b[K\rremote: Counting objects:  51% (88/171)\u001b[K\rremote: Counting objects:  52% (89/171)\u001b[K\rremote: Counting objects:  53% (91/171)\u001b[K\rremote: Counting objects:  54% (93/171)\u001b[K\rremote: Counting objects:  55% (95/171)\u001b[K\rremote: Counting objects:  56% (96/171)\u001b[K\rremote: Counting objects:  57% (98/171)\u001b[K\rremote: Counting objects:  58% (100/171)\u001b[K\rremote: Counting objects:  59% (101/171)\u001b[K\rremote: Counting objects:  60% (103/171)\u001b[K\rremote: Counting objects:  61% (105/171)\u001b[K\rremote: Counting objects:  62% (107/171)\u001b[K\rremote: Counting objects:  63% (108/171)\u001b[K\rremote: Counting objects:  64% (110/171)\u001b[K\rremote: Counting objects:  65% (112/171)\u001b[K\rremote: Counting objects:  66% (113/171)\u001b[K\rremote: Counting objects:  67% (115/171)\u001b[K\rremote: Counting objects:  68% (117/171)\u001b[K\rremote: Counting objects:  69% (118/171)\u001b[K\rremote: Counting objects:  70% (120/171)\u001b[K\rremote: Counting objects:  71% (122/171)\u001b[K\rremote: Counting objects:  72% (124/171)\u001b[K\rremote: Counting objects:  73% (125/171)\u001b[K\rremote: Counting objects:  74% (127/171)\u001b[K\rremote: Counting objects:  75% (129/171)\u001b[K\rremote: Counting objects:  76% (130/171)\u001b[K\rremote: Counting objects:  77% (132/171)\u001b[K\rremote: Counting objects:  78% (134/171)\u001b[K\rremote: Counting objects:  79% (136/171)\u001b[K\rremote: Counting objects:  80% (137/171)\u001b[K\rremote: Counting objects:  81% (139/171)\u001b[K\rremote: Counting objects:  82% (141/171)\u001b[K\rremote: Counting objects:  83% (142/171)\u001b[K\rremote: Counting objects:  84% (144/171)\u001b[K\rremote: Counting objects:  85% (146/171)\u001b[K\rremote: Counting objects:  86% (148/171)\u001b[K\rremote: Counting objects:  87% (149/171)\u001b[K\rremote: Counting objects:  88% (151/171)\u001b[K\rremote: Counting objects:  89% (153/171)\u001b[K\rremote: Counting objects:  90% (154/171)\u001b[K\rremote: Counting objects:  91% (156/171)\u001b[K\rremote: Counting objects:  92% (158/171)\u001b[K\rremote: Counting objects:  93% (160/171)\u001b[K\rremote: Counting objects:  94% (161/171)\u001b[K\rremote: Counting objects:  95% (163/171)\u001b[K\rremote: Counting objects:  96% (165/171)\u001b[K\rremote: Counting objects:  97% (166/171)\u001b[K\rremote: Counting objects:  98% (168/171)\u001b[K\rremote: Counting objects:  99% (170/171)\u001b[K\rremote: Counting objects: 100% (171/171)\u001b[K\rremote: Counting objects: 100% (171/171), done.\u001b[K\n",
            "remote: Compressing objects:   0% (1/147)\u001b[K\rremote: Compressing objects:   1% (2/147)\u001b[K\rremote: Compressing objects:   2% (3/147)\u001b[K\rremote: Compressing objects:   3% (5/147)\u001b[K\rremote: Compressing objects:   4% (6/147)\u001b[K\rremote: Compressing objects:   5% (8/147)\u001b[K\rremote: Compressing objects:   6% (9/147)\u001b[K\rremote: Compressing objects:   7% (11/147)\u001b[K\rremote: Compressing objects:   8% (12/147)\u001b[K\rremote: Compressing objects:   9% (14/147)\u001b[K\rremote: Compressing objects:  10% (15/147)\u001b[K\rremote: Compressing objects:  11% (17/147)\u001b[K\rremote: Compressing objects:  12% (18/147)\u001b[K\rremote: Compressing objects:  13% (20/147)\u001b[K\rremote: Compressing objects:  14% (21/147)\u001b[K\rremote: Compressing objects:  15% (23/147)\u001b[K\rremote: Compressing objects:  16% (24/147)\u001b[K\rremote: Compressing objects:  17% (25/147)\u001b[K\rremote: Compressing objects:  18% (27/147)\u001b[K\rremote: Compressing objects:  19% (28/147)\u001b[K\rremote: Compressing objects:  20% (30/147)\u001b[K\rremote: Compressing objects:  21% (31/147)\u001b[K\rremote: Compressing objects:  22% (33/147)\u001b[K\rremote: Compressing objects:  23% (34/147)\u001b[K\rremote: Compressing objects:  24% (36/147)\u001b[K\rremote: Compressing objects:  25% (37/147)\u001b[K\rremote: Compressing objects:  26% (39/147)\u001b[K\rremote: Compressing objects:  27% (40/147)\u001b[K\rremote: Compressing objects:  28% (42/147)\u001b[K\rremote: Compressing objects:  29% (43/147)\u001b[K\rremote: Compressing objects:  30% (45/147)\u001b[K\rremote: Compressing objects:  31% (46/147)\u001b[K\rremote: Compressing objects:  32% (48/147)\u001b[K\rremote: Compressing objects:  33% (49/147)\u001b[K\rremote: Compressing objects:  34% (50/147)\u001b[K\rremote: Compressing objects:  35% (52/147)\u001b[K\rremote: Compressing objects:  36% (53/147)\u001b[K\rremote: Compressing objects:  37% (55/147)\u001b[K\rremote: Compressing objects:  38% (56/147)\u001b[K\rremote: Compressing objects:  39% (58/147)\u001b[K\rremote: Compressing objects:  40% (59/147)\u001b[K\rremote: Compressing objects:  41% (61/147)\u001b[K\rremote: Compressing objects:  42% (62/147)\u001b[K\rremote: Compressing objects:  43% (64/147)\u001b[K\rremote: Compressing objects:  44% (65/147)\u001b[K\rremote: Compressing objects:  45% (67/147)\u001b[K\rremote: Compressing objects:  46% (68/147)\u001b[K\rremote: Compressing objects:  47% (70/147)\u001b[K\rremote: Compressing objects:  48% (71/147)\u001b[K\rremote: Compressing objects:  49% (73/147)\u001b[K\rremote: Compressing objects:  50% (74/147)\u001b[K\rremote: Compressing objects:  51% (75/147)\u001b[K\rremote: Compressing objects:  52% (77/147)\u001b[K\rremote: Compressing objects:  53% (78/147)\u001b[K\rremote: Compressing objects:  54% (80/147)\u001b[K\rremote: Compressing objects:  55% (81/147)\u001b[K\rremote: Compressing objects:  56% (83/147)\u001b[K\rremote: Compressing objects:  57% (84/147)\u001b[K\rremote: Compressing objects:  58% (86/147)\u001b[K\rremote: Compressing objects:  59% (87/147)\u001b[K\rremote: Compressing objects:  60% (89/147)\u001b[K\rremote: Compressing objects:  61% (90/147)\u001b[K\rremote: Compressing objects:  62% (92/147)\u001b[K\rremote: Compressing objects:  63% (93/147)\u001b[K\rremote: Compressing objects:  64% (95/147)\u001b[K\rremote: Compressing objects:  65% (96/147)\u001b[K\rremote: Compressing objects:  66% (98/147)\u001b[K\rremote: Compressing objects:  67% (99/147)\u001b[K\rremote: Compressing objects:  68% (100/147)\u001b[K\rremote: Compressing objects:  69% (102/147)\u001b[K\rremote: Compressing objects:  70% (103/147)\u001b[K\rremote: Compressing objects:  71% (105/147)\u001b[K\rremote: Compressing objects:  72% (106/147)\u001b[K\rremote: Compressing objects:  73% (108/147)\u001b[K\rremote: Compressing objects:  74% (109/147)\u001b[K\rremote: Compressing objects:  75% (111/147)\u001b[K\rremote: Compressing objects:  76% (112/147)\u001b[K\rremote: Compressing objects:  77% (114/147)\u001b[K\rremote: Compressing objects:  78% (115/147)\u001b[K\rremote: Compressing objects:  79% (117/147)\u001b[K\rremote: Compressing objects:  80% (118/147)\u001b[K\rremote: Compressing objects:  81% (120/147)\u001b[K\rremote: Compressing objects:  82% (121/147)\u001b[K\rremote: Compressing objects:  83% (123/147)\u001b[K\rremote: Compressing objects:  84% (124/147)\u001b[K\rremote: Compressing objects:  85% (125/147)\u001b[K\rremote: Compressing objects:  86% (127/147)\u001b[K\rremote: Compressing objects:  87% (128/147)\u001b[K\rremote: Compressing objects:  88% (130/147)\u001b[K\rremote: Compressing objects:  89% (131/147)\u001b[K\rremote: Compressing objects:  90% (133/147)\u001b[K\rremote: Compressing objects:  91% (134/147)\u001b[K\rremote: Compressing objects:  92% (136/147)\u001b[K\rremote: Compressing objects:  93% (137/147)\u001b[K\rremote: Compressing objects:  94% (139/147)\u001b[K\rremote: Compressing objects:  95% (140/147)\u001b[K\rremote: Compressing objects:  96% (142/147)\u001b[K\rremote: Compressing objects:  97% (143/147)\u001b[K\rremote: Compressing objects:  98% (145/147)\u001b[K\rremote: Compressing objects:  99% (146/147)\u001b[K\rremote: Compressing objects: 100% (147/147)\u001b[K\rremote: Compressing objects: 100% (147/147), done.\u001b[K\n",
            "remote: Total 171 (delta 26), reused 160 (delta 19), pack-reused 0\u001b[K\n",
            "Receiving objects: 100% (171/171), 38.52 KiB | 9.63 MiB/s, done.\n",
            "Resolving deltas: 100% (26/26), done.\n"
          ]
        }
      ]
    },
    {
      "cell_type": "code",
      "source": [
        "import linecache\n",
        "import random\n",
        "\n",
        "filepath = './pylib/ch06/saying.txt'\n",
        "\n",
        "no = random.randint(1, 100)\n",
        "print(linecache.getline(filepath, no))"
      ],
      "metadata": {
        "colab": {
          "base_uri": "https://localhost:8080/"
        },
        "id": "6Y2iik5gAheS",
        "outputId": "13cb25ff-66d1-4ede-8a9a-a37ecc77a246"
      },
      "execution_count": null,
      "outputs": [
        {
          "output_type": "stream",
          "name": "stdout",
          "text": [
            "콩 심은 데 콩 나고 팥 심은 데 팥 난다\n",
            "\n"
          ]
        }
      ]
    },
    {
      "cell_type": "markdown",
      "source": [
        "**6-7  shutil module**\n",
        "\n",
        "\n",
        "*   shutil.copy()"
      ],
      "metadata": {
        "id": "VlwCN1CbBA82"
      }
    },
    {
      "cell_type": "code",
      "source": [
        "import shutil\n",
        "\n",
        "shutil.copy(\"test[0].txt\", \"tempa.txt.bak\")\n",
        "\n"
      ],
      "metadata": {
        "colab": {
          "base_uri": "https://localhost:8080/",
          "height": 35
        },
        "id": "0En7LlLnBdMw",
        "outputId": "d3afbd19-1a20-4340-e405-4f89a0817c37"
      },
      "execution_count": null,
      "outputs": [
        {
          "output_type": "execute_result",
          "data": {
            "text/plain": [
              "'tempa.txt.bak'"
            ],
            "application/vnd.google.colaboratory.intrinsic+json": {
              "type": "string"
            }
          },
          "metadata": {},
          "execution_count": 80
        }
      ]
    },
    {
      "cell_type": "code",
      "source": [
        "shutil.move(\"test[0].txt\", \"tempa.txt\")"
      ],
      "metadata": {
        "colab": {
          "base_uri": "https://localhost:8080/",
          "height": 35
        },
        "id": "q2vOj4u9B9AI",
        "outputId": "220bd9a5-de3d-47db-ebaa-c51ba2890f2a"
      },
      "execution_count": null,
      "outputs": [
        {
          "output_type": "execute_result",
          "data": {
            "text/plain": [
              "'tempa.txt'"
            ],
            "application/vnd.google.colaboratory.intrinsic+json": {
              "type": "string"
            }
          },
          "metadata": {},
          "execution_count": 81
        }
      ]
    },
    {
      "cell_type": "code",
      "source": [],
      "metadata": {
        "id": "QhycUhzzCSso"
      },
      "execution_count": null,
      "outputs": []
    }
  ]
}