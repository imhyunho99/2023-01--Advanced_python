{
  "nbformat": 4,
  "nbformat_minor": 0,
  "metadata": {
    "colab": {
      "provenance": [],
      "toc_visible": true,
      "authorship_tag": "ABX9TyMnzegUZNmG2RgJp6yvAPqw",
      "include_colab_link": true
    },
    "kernelspec": {
      "name": "python3",
      "display_name": "Python 3"
    },
    "language_info": {
      "name": "python"
    }
  },
  "cells": [
    {
      "cell_type": "markdown",
      "metadata": {
        "id": "view-in-github",
        "colab_type": "text"
      },
      "source": [
        "<a href=\"https://colab.research.google.com/github/imhyunho99/2023-01--Advanced_python/blob/main/pylib_001ipynb.ipynb\" target=\"_parent\"><img src=\"https://colab.research.google.com/assets/colab-badge.svg\" alt=\"Open In Colab\"/></a>"
      ]
    },
    {
      "cell_type": "markdown",
      "source": [
        "###**01 Text control**###\n"
      ],
      "metadata": {
        "id": "lQGvOqJJeIDo"
      }
    },
    {
      "cell_type": "code",
      "source": [
        "#textwrap, re Text control\n",
        "import textwrap #wrapping and filling \n",
        "import re\n"
      ],
      "metadata": {
        "id": "GW_QaL5Za8IY"
      },
      "execution_count": null,
      "outputs": []
    },
    {
      "cell_type": "markdown",
      "source": [
        "**1-1 Textwrap Module**\n",
        "\n",
        "*   textwrap.shorten()\n",
        "*   textwrap.wrap()\n",
        "*   textwrap.fill()\n",
        "\n",
        "https://docs.python.org/3.7/library/textwrap.html"
      ],
      "metadata": {
        "id": "Sxx3yk5lc0zu"
      }
    },
    {
      "cell_type": "code",
      "source": [
        "en = textwrap.shorten(\"Life is too short, you need python\", width=20) # width로 전달한 길이만큼 문자열을 줄여 표시한다. 단어 단위로 문자열을 줄이므로 단어는 중간에 끊어지지 않는다.\n",
        "ko = textwrap.shorten(\"인생은 짧으니 파이썬이 필요해\", width=15)\n",
        "print(en)\n",
        "print(ko)"
      ],
      "metadata": {
        "colab": {
          "base_uri": "https://localhost:8080/"
        },
        "id": "mCtFY4c5bNGW",
        "outputId": "0d3dc9f4-b2e8-4c66-d912-0b723361d7d0"
      },
      "execution_count": null,
      "outputs": [
        {
          "output_type": "stream",
          "name": "stdout",
          "text": [
            "Life is too [...]\n",
            "인생은 짧으니 [...]\n"
          ]
        }
      ]
    },
    {
      "cell_type": "code",
      "source": [
        "long_text = 'Life is too short, you need python. ' * 10\n",
        "result = textwrap.wrap(long_text, width=70) #긴 문자열을 width 길이만큼 자르고 이를 리스트로 만들어 반환한다.\n",
        "print(\"wrap: \",result)\n",
        "print(\"join: \", '\\n'.join(result))\n",
        "\n",
        "print(type(result))\n",
        "print(type(result[0]))"
      ],
      "metadata": {
        "colab": {
          "base_uri": "https://localhost:8080/"
        },
        "id": "Vj_2-D9JcKaG",
        "outputId": "bb5b3ca6-8f94-4e07-9d51-cd286caeb1d7"
      },
      "execution_count": null,
      "outputs": [
        {
          "output_type": "stream",
          "name": "stdout",
          "text": [
            "wrap:  ['Life is too short, you need python. Life is too short, you need', 'python. Life is too short, you need python. Life is too short, you', 'need python. Life is too short, you need python. Life is too short,', 'you need python. Life is too short, you need python. Life is too', 'short, you need python. Life is too short, you need python. Life is', 'too short, you need python.']\n",
            "join:  Life is too short, you need python. Life is too short, you need\n",
            "python. Life is too short, you need python. Life is too short, you\n",
            "need python. Life is too short, you need python. Life is too short,\n",
            "you need python. Life is too short, you need python. Life is too\n",
            "short, you need python. Life is too short, you need python. Life is\n",
            "too short, you need python.\n",
            "<class 'list'>\n",
            "<class 'str'>\n"
          ]
        }
      ]
    },
    {
      "cell_type": "code",
      "source": [
        "result = textwrap.fill(long_text, width=70) #wrap과 join을 한번에. width를 따라 각 라인은 70을 넘지 않는다다\n",
        "print(\"fill: \",result) "
      ],
      "metadata": {
        "colab": {
          "base_uri": "https://localhost:8080/"
        },
        "id": "G5kSVrRldAlr",
        "outputId": "8810ff43-67c2-4fe7-f80e-95ae17c3fbea"
      },
      "execution_count": null,
      "outputs": [
        {
          "output_type": "stream",
          "name": "stdout",
          "text": [
            "Life is too short, you need python. Life is too short, you need\n",
            "python. Life is too short, you need python. Life is too short, you\n",
            "need python. Life is too short, you need python. Life is too short,\n",
            "you need python. Life is too short, you need python. Life is too\n",
            "short, you need python. Life is too short, you need python. Life is\n",
            "too short, you need python.\n"
          ]
        }
      ]
    },
    {
      "cell_type": "markdown",
      "source": [
        "**1-2 Re Module**\n",
        "\n",
        "\n",
        "*   re.compile\n",
        "\n",
        "https://docs.python.org/3.7/library/re.html\n",
        "\n",
        "정규표현식에 대한 정리\n",
        "1. 패턴의 발견\n",
        "2. 패턴의 처리\n",
        "\n",
        "https://wikidocs.net/4308\n",
        "정규표현식과 메타문자 정리 with Jump to Python\n"
      ],
      "metadata": {
        "id": "mSH4TJoMf_jw"
      }
    },
    {
      "cell_type": "code",
      "source": [
        "data = \"\"\"\n",
        "홍길동의 주민번호는 800905-1049118 입니다. \n",
        "그리고 고길동의 주민번호는 700905-1059119 입니다.\n",
        "그렇다면 누가 형님일까요?\n",
        "\"\"\"\n",
        "print(data)"
      ],
      "metadata": {
        "id": "l77IbJK-jR3K"
      },
      "execution_count": null,
      "outputs": []
    },
    {
      "cell_type": "code",
      "source": [
        "#반복문과 split으로 마스킹하기\n",
        "\n",
        "result = []\n",
        "for line in data.split(\"\\n\"):\n",
        "    word_result = []\n",
        "    for word in line.split(\" \"):\n",
        "        if len(word) == 14 and word[:6].isdigit() and word[7:].isdigit():\n",
        "            word = word[:6] + \"-\" + \"*******\"\n",
        "        word_result.append(word)\n",
        "    result.append(\" \".join(word_result))\n",
        "print(\"\\n\".join(result))"
      ],
      "metadata": {
        "colab": {
          "base_uri": "https://localhost:8080/"
        },
        "id": "U033x1R8jdWD",
        "outputId": "4069bae9-9dcc-4759-8d23-6d75c67ca860"
      },
      "execution_count": null,
      "outputs": [
        {
          "output_type": "stream",
          "name": "stdout",
          "text": [
            "\n",
            "홍길동의 주민번호는 800905-******* 입니다. \n",
            "그리고 고길동의 주민번호는 700905-******* 입니다.\n",
            "그렇다면 누가 형님일까요?\n",
            "\n"
          ]
        }
      ]
    },
    {
      "cell_type": "code",
      "source": [
        "pat = re.compile(\"(\\d{6})[-]\\d{7}\") #정규식 패턴을 정규식 객체로 컴파일합니다.  (\\d(모든 숫자), {6}(6번 반복))(Grouping), [-](str-class\"-\"), \\d(모든 숫자), {7}(7번 반복) => 이런 패턴을 찾아라\n",
        "print(pat.sub(\"\\g<1>-*******\", data)) #뒷자리 마스킹. 개인정보 보호."
      ],
      "metadata": {
        "colab": {
          "base_uri": "https://localhost:8080/"
        },
        "id": "Tu_zA6m1gHoB",
        "outputId": "ccc55df8-1557-4213-ae71-769c47594bb8"
      },
      "execution_count": null,
      "outputs": [
        {
          "output_type": "stream",
          "name": "stdout",
          "text": [
            "\n",
            "홍길동의 주민번호는 800905-******* 입니다. \n",
            "그리고 고길동의 주민번호는 700905-******* 입니다.\n",
            "그렇다면 누가 형님일까요?\n",
            "\n"
          ]
        }
      ]
    },
    {
      "cell_type": "markdown",
      "source": [
        "###**02 Binary Data**###\n",
        "\n",
        "\n",
        "\n",
        "*   매직 명령어 %%\n",
        "*   리눅스 명령어 !\n",
        "\n",
        "\n",
        "\n",
        "\n",
        "**생각보다 colab은 강력하다"
      ],
      "metadata": {
        "id": "DYB4re6dhVKw"
      }
    },
    {
      "cell_type": "markdown",
      "source": [
        "**2-1 Struct Module**\n",
        "*   struct.unpack()\n"
      ],
      "metadata": {
        "id": "De3AoLZ7rgZ9"
      }
    },
    {
      "cell_type": "code",
      "source": [
        "%%writefile struct_sample.c\n",
        "\n",
        "#include <stdio.h>\n",
        "typedef struct { \n",
        "    double v; \n",
        "    int t; \n",
        "    char c;\n",
        "} save_type;\n",
        "\n",
        "int main() {\n",
        "    save_type s = {7.5f, 15, 'A'};\n",
        "    FILE *f = fopen(\"output\", \"w\");\n",
        "    fwrite(&s, sizeof(save_type), 1, f);\n",
        "    fclose(f);\n",
        "    printf(\"%d bytes\\n\",  sizeof(save_type));\n",
        "    return 0;\n",
        "}"
      ],
      "metadata": {
        "colab": {
          "base_uri": "https://localhost:8080/"
        },
        "id": "Ofpga7TSsxmY",
        "outputId": "8f563ec9-efbe-4a79-b683-cda4206953f0"
      },
      "execution_count": null,
      "outputs": [
        {
          "output_type": "stream",
          "name": "stdout",
          "text": [
            "Overwriting struct_sample.c\n"
          ]
        }
      ]
    },
    {
      "cell_type": "code",
      "source": [
        "!gcc struct_sample.c -o struct_sample"
      ],
      "metadata": {
        "colab": {
          "base_uri": "https://localhost:8080/"
        },
        "id": "4Ss5hCmpt26y",
        "outputId": "0d15f50e-6bb1-48a5-f9a9-1061b00111a9"
      },
      "execution_count": null,
      "outputs": [
        {
          "output_type": "stream",
          "name": "stdout",
          "text": [
            "\u001b[01m\u001b[Kstruct_sample.c:\u001b[m\u001b[K In function ‘\u001b[01m\u001b[Kmain\u001b[m\u001b[K’:\n",
            "\u001b[01m\u001b[Kstruct_sample.c:14:14:\u001b[m\u001b[K \u001b[01;35m\u001b[Kwarning: \u001b[m\u001b[Kformat ‘\u001b[01m\u001b[K%d\u001b[m\u001b[K’ expects argument of type ‘\u001b[01m\u001b[Kint\u001b[m\u001b[K’, but argument 2 has type ‘\u001b[01m\u001b[Klong unsigned int\u001b[m\u001b[K’ [\u001b[01;35m\u001b[K-Wformat=\u001b[m\u001b[K]\n",
            "   14 |     printf(\"\u001b[01;35m\u001b[K%d\u001b[m\u001b[K bytes\\n\",  \u001b[32m\u001b[Ksizeof(save_type)\u001b[m\u001b[K);\n",
            "      |             \u001b[01;35m\u001b[K~^\u001b[m\u001b[K            \u001b[32m\u001b[K~~~~~~~~~~~~~~~~~\u001b[m\u001b[K\n",
            "      |              \u001b[01;35m\u001b[K|\u001b[m\u001b[K            \u001b[32m\u001b[K|\u001b[m\u001b[K\n",
            "      |              \u001b[01;35m\u001b[Kint\u001b[m\u001b[K          \u001b[32m\u001b[Klong unsigned int\u001b[m\u001b[K\n",
            "      |             \u001b[32m\u001b[K%ld\u001b[m\u001b[K\n"
          ]
        }
      ]
    },
    {
      "cell_type": "code",
      "source": [
        "!./struct_sample"
      ],
      "metadata": {
        "colab": {
          "base_uri": "https://localhost:8080/"
        },
        "id": "Kt5tcaN2spTD",
        "outputId": "f0428d1e-42b9-4388-b221-2a1bbc08bdc2"
      },
      "execution_count": null,
      "outputs": [
        {
          "output_type": "stream",
          "name": "stdout",
          "text": [
            "16 bytes\n"
          ]
        }
      ]
    },
    {
      "cell_type": "code",
      "source": [
        "import struct\n",
        "with open('output', 'rb') as f:#binary file reading\n",
        "    chunk = f.read(16)\n",
        "    result = struct.unpack('dicccc', chunk) #double, int, char, char, char, char\n",
        "    print(result)\n",
        "# 이론상 데이터 값 (ㅁㅁㅁㅁㅁㅁㅁㅁ) (ㅁㅁㅁㅁ) (ㅁ) (ㅁ)\n",
        "# 실제 데이터 값 (ㅁㅁㅁㅁㅁㅁㅁㅁ) (ㅁㅁㅁㅁ ㅁ ㅁ null null)"
      ],
      "metadata": {
        "colab": {
          "base_uri": "https://localhost:8080/"
        },
        "id": "0JmZH3wNtgw5",
        "outputId": "e7c403aa-f65b-4953-dc16-705878a172d8"
      },
      "execution_count": null,
      "outputs": [
        {
          "output_type": "stream",
          "name": "stdout",
          "text": [
            "(7.5, 15, b'A', b'U', b'\\x00', b'\\x00')\n"
          ]
        }
      ]
    },
    {
      "cell_type": "markdown",
      "source": [
        "###**03 variable Data control**###"
      ],
      "metadata": {
        "id": "6SxSxgLZuuCl"
      }
    },
    {
      "cell_type": "markdown",
      "source": [
        "**3-1 datetime module**\n",
        "\n",
        "*   datetime.date(year, month, day, hour, minute, second, microsecond)\n",
        "*   datetime.timedelta(weeks, days, hours)\n",
        "*   항목 추가\n",
        "\n",
        "\n",
        "\n",
        "https://docs.python.org/ko/3/library/datetime.html"
      ],
      "metadata": {
        "id": "wlaXlyjKwt7g"
      }
    },
    {
      "cell_type": "code",
      "source": [
        "import datetime"
      ],
      "metadata": {
        "id": "cDW4Fz1lw-Hi"
      },
      "execution_count": null,
      "outputs": []
    },
    {
      "cell_type": "code",
      "source": [
        "day1 = datetime.date(2019, 12, 14)\n",
        "day2 = datetime.date(2021, 6, 5)\n",
        "diff = day2 - day1 #datetime 뺄셈, 덧셈 정의의\n",
        "print(diff)\n",
        "\n",
        "today = datetime.date.today()\n",
        "wd1 = today.weekday() #월요일 0\n",
        "wd2 = today.isoweekday() #일요일 0\n",
        "print(wd1)\n",
        "print(wd2)\n",
        "\n",
        "wd = ['mon', 'tue', 'wed', 'thu', 'fri', 'sat', 'sun']\n",
        "print(wd[wd1])"
      ],
      "metadata": {
        "colab": {
          "base_uri": "https://localhost:8080/"
        },
        "id": "9zHYqg25xDRZ",
        "outputId": "bc4d5b0d-5ff1-43be-cdea-45bb8ded1719"
      },
      "execution_count": null,
      "outputs": [
        {
          "output_type": "stream",
          "name": "stdout",
          "text": [
            "539 days, 0:00:00\n",
            "1\n",
            "2\n",
            "tue\n"
          ]
        }
      ]
    },
    {
      "cell_type": "code",
      "source": [
        "today = datetime.date.today()\n",
        "diff_days = datetime.timedelta(days=100)\n",
        "ani = today + diff_days\n",
        "print(ani)\n",
        "print(type(ani))"
      ],
      "metadata": {
        "colab": {
          "base_uri": "https://localhost:8080/"
        },
        "id": "svqCU5d_xINn",
        "outputId": "992bfae1-31f8-4fe8-dc89-5e833b9f4f2c"
      },
      "execution_count": null,
      "outputs": [
        {
          "output_type": "stream",
          "name": "stdout",
          "text": [
            "2023-06-22\n",
            "<class 'datetime.date'>\n"
          ]
        }
      ]
    },
    {
      "cell_type": "markdown",
      "source": [
        "**3-2 calendar module**\n",
        "\n",
        "*   isleap()\n",
        "\n",
        "https://docs.python.org/en/3/library/calendar.html\n",
        "\n"
      ],
      "metadata": {
        "id": "_F8YZfYXz8Bo"
      }
    },
    {
      "cell_type": "code",
      "source": [
        "import calendar\n",
        "y23 = calendar.isleap(2023)\n",
        "y0 = calendar.isleap(0)\n",
        "\n",
        "print(y23)\n",
        "print(y0)"
      ],
      "metadata": {
        "colab": {
          "base_uri": "https://localhost:8080/"
        },
        "id": "Odtzfwqr09Kq",
        "outputId": "8b2c5a1b-0f39-4f77-b408-eb9b1af96277"
      },
      "execution_count": null,
      "outputs": [
        {
          "output_type": "stream",
          "name": "stdout",
          "text": [
            "False\n",
            "True\n"
          ]
        }
      ]
    },
    {
      "cell_type": "markdown",
      "source": [
        "**3-3 collections module**\n",
        "\n",
        "\n",
        "*   collections.deque()\n",
        "*   collections.namedtuple()\n",
        "*   collections.Counter()\n",
        "*   collections.defaultdict()\n",
        "\n",
        "https://docs.python.org/3/library/collections.html\n",
        "\n",
        "\n",
        "\n"
      ],
      "metadata": {
        "id": "RUFdR1Kk1qZs"
      }
    },
    {
      "cell_type": "code",
      "source": [
        "from collections import deque \n",
        "\n",
        "a = [1, 2, 3, 4, 5]\n",
        "q = deque(a)\n",
        "q.rotate(2)  #시계방향 회전은 양수, 그 반대는 음수\n",
        "result = list(q)\n",
        "print(result)\n",
        "\n",
        "d = deque([1,2,3,4,5])\n",
        "print(d)\n",
        "\n",
        "d.append(6)\n",
        "print(d)\n",
        "\n",
        "d.appendleft(0)\n",
        "print(d)\n",
        "\n",
        "d.pop()\n",
        "print(d)\n",
        "\n",
        "d.popleft()\n",
        "print(d)"
      ],
      "metadata": {
        "colab": {
          "base_uri": "https://localhost:8080/"
        },
        "id": "YeqW9wSa2ryt",
        "outputId": "ae5c7528-341f-4a7b-e25f-ca1a1a593b73"
      },
      "execution_count": null,
      "outputs": [
        {
          "output_type": "stream",
          "name": "stdout",
          "text": [
            "[4, 5, 1, 2, 3]\n",
            "deque([1, 2, 3, 4, 5])\n",
            "deque([1, 2, 3, 4, 5, 6])\n",
            "deque([0, 1, 2, 3, 4, 5, 6])\n",
            "deque([0, 1, 2, 3, 4, 5])\n",
            "deque([1, 2, 3, 4, 5])\n"
          ]
        }
      ]
    }
  ]
}