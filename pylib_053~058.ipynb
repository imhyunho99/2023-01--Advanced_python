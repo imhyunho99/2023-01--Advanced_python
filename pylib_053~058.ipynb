{
  "nbformat": 4,
  "nbformat_minor": 0,
  "metadata": {
    "colab": {
      "provenance": [],
      "authorship_tag": "ABX9TyPy5DAViI9TUj8TTgkRHMBv",
      "include_colab_link": true
    },
    "kernelspec": {
      "name": "python3",
      "display_name": "Python 3"
    },
    "language_info": {
      "name": "python"
    }
  },
  "cells": [
    {
      "cell_type": "markdown",
      "metadata": {
        "id": "view-in-github",
        "colab_type": "text"
      },
      "source": [
        "<a href=\"https://colab.research.google.com/github/imhyunho99/2023-1--Advanced_python/blob/main/pylib_053~058.ipynb\" target=\"_parent\"><img src=\"https://colab.research.google.com/assets/colab-badge.svg\" alt=\"Open In Colab\"/></a>"
      ]
    },
    {
      "cell_type": "markdown",
      "source": [
        "##09 File control\n",
        "\n",
        "*    csv module\n",
        "*    configparser module"
      ],
      "metadata": {
        "id": "oQ5aZjKQ4O9l"
      }
    },
    {
      "cell_type": "code",
      "execution_count": null,
      "metadata": {
        "colab": {
          "base_uri": "https://localhost:8080/"
        },
        "id": "9qnBSmL53Kh3",
        "outputId": "8ccebf43-c93e-4c4a-b73d-9f8f89d899f6"
      },
      "outputs": [
        {
          "output_type": "stream",
          "name": "stdout",
          "text": [
            "[['1', '80,55', '홍길동', 67.5], ['2', '90,77', '김철수', 83.5], ['3', '88,66', '박희수', 77.0]]\n"
          ]
        }
      ],
      "source": [
        "#csv 파일에 ,가 포함될 경우 그냥 파일을 열어서 ,로 split하는것은 아주 불안정하기 때문에 사용하는 모듈\n",
        "import csv\n",
        "\n",
        "f = open('score.csv','w', encoding = 'euc-kr', newline='')\n",
        "wr = csv.writer(f)\n",
        "wr.writerow([\"1\",\"80,55\",\"홍길동\"])\n",
        "wr.writerow([\"2\",\"90,77\",\"김철수\"])\n",
        "wr.writerow([\"3\",\"88,66\",\"박희수\"])\n",
        "f.close()\n",
        "\n",
        "result = []\n",
        "with open('score.csv', 'r', encoding='euc-kr') as f:\n",
        "    reader = csv.reader(f)\n",
        "    for line in reader:#인코딩 Err UTF-8, euc-kr, ASCII...\n",
        "        average = sum(map(int, line[1].split(','))) / 2 #map=> 함수 A에 B를 순차적으로 적용\n",
        "        line.append(average)\n",
        "        result.append(line)\n",
        "print(result)\n",
        "\n",
        "with open('score_result.csv', 'w', encoding = 'euc-kr',newline='') as f: #여기서 encoding을 안하면 다운 받았을 때 깨짐 But colab에서는 꺠짐...\n",
        "    writer = csv.writer(f)\n",
        "    writer.writerows(result)"
      ]
    },
    {
      "cell_type": "code",
      "source": [
        "import configparser\n",
        "\n",
        "f = open('ftp.ini','w',newline='')\n",
        "data = \"\"\"\n",
        "[FTP1]\n",
        "SERVER_IP = 111.23.56.78\n",
        "PORT = 21\n",
        "USERNAME = foo\n",
        "PASSWORD = bar\n",
        "\n",
        "[FTP2]\n",
        "SERVER_IP = 111.23.56.79\n",
        "PORT = 22221\n",
        "USERNAME = admin\n",
        "PASSWORD = hello\n",
        "\"\"\"\n",
        "f.write(data)\n",
        "f.close()\n",
        "\n",
        "config = configparser.ConfigParser()\n",
        "config.read('ftp.ini')\n",
        "ftp2_port = config['FTP2']['PORT']\n",
        "print(type(ftp2_port))\n",
        "print(ftp2_port)  # 22221 출력"
      ],
      "metadata": {
        "colab": {
          "base_uri": "https://localhost:8080/"
        },
        "id": "XPD9mx8A5TV_",
        "outputId": "b3adf911-11ca-40e0-f1fc-c6669b7b5391"
      },
      "execution_count": null,
      "outputs": [
        {
          "output_type": "stream",
          "name": "stdout",
          "text": [
            "<class 'str'>\n",
            "22221\n"
          ]
        }
      ]
    },
    {
      "cell_type": "markdown",
      "source": [
        "#10 Encryption\n",
        "\n",
        "\n",
        "\n",
        "*   hashlib module\n",
        "*   hmac module\n",
        "*   secrets module\n",
        "\n"
      ],
      "metadata": {
        "id": "rFejuVuED-gH"
      }
    },
    {
      "cell_type": "markdown",
      "source": [
        "**hashlib module**\n",
        "\n",
        "*   hashlib.sha256()\n",
        "*   m.hexdigest()\n",
        "\n"
      ],
      "metadata": {
        "id": "rNM7rUprE9Qh"
      }
    },
    {
      "cell_type": "code",
      "source": [
        "\"\"\" #hashlib없이 하면 비밀번호 그대로 다뜸\n",
        "\n",
        "import os\n",
        "\n",
        "def check_passwd():\n",
        "  if os.path.exists('passwd.txt'):\n",
        "    pw = input(\"pw입력\")\n",
        "    with open('password.txt', r) as f:\n",
        "      return pw == f.read()\n",
        "  else:\n",
        "    return True\n",
        "\n",
        "if check_passwd():\n",
        "  pw = input(\"새로운 pw 입력\")\n",
        "  with open('password.txt', w)as f:\n",
        "    f.write(pw)\n",
        "else:\n",
        "  print(\"pw wrong\")\n",
        "\"\"\""
      ],
      "metadata": {
        "id": "zUjJc6qWFqT9"
      },
      "execution_count": null,
      "outputs": []
    },
    {
      "cell_type": "code",
      "source": [
        "import hashlib\n",
        "import os\n",
        "\n",
        "\n",
        "def check_passwd():\n",
        "    if os.path.exists('passwd.txt'):\n",
        "        before_passwd = input('기존 비밀번호를 입력하세요:')\n",
        "        m = hashlib.sha256()\n",
        "        m.update(before_passwd.encode('utf-8'))\n",
        "        with open('passwd.txt', 'r') as f:\n",
        "            return m.hexdigest() == f.read()\n",
        "    else:\n",
        "        return True\n",
        "\n",
        "\n",
        "if check_passwd():\n",
        "    passwd = input('새로운 비밀번호를 입력하세요:')\n",
        "    with open('passwd.txt', 'w') as f:\n",
        "        m = hashlib.sha256()\n",
        "        m.update(passwd.encode('utf-8'))\n",
        "        f.write(m.hexdigest())\n",
        "else:\n",
        "    print(\"비밀번호가 일치하지 않습니다.\")"
      ],
      "metadata": {
        "colab": {
          "base_uri": "https://localhost:8080/"
        },
        "id": "p_9VtAEoENLL",
        "outputId": "46506667-1443-43a3-9e0c-061e68408c56"
      },
      "execution_count": null,
      "outputs": [
        {
          "name": "stdout",
          "output_type": "stream",
          "text": [
            "새로운 비밀번호를 입력하세요:1111\n"
          ]
        }
      ]
    },
    {
      "cell_type": "code",
      "source": [
        "if check_passwd():\n",
        "    passwd = input('새로운 비밀번호를 입력하세요:')\n",
        "    with open('passwd.txt', 'w') as f:\n",
        "        m = hashlib.sha256()\n",
        "        m.update(passwd.encode('utf-8'))\n",
        "        f.write(m.hexdigest())\n",
        "else:\n",
        "    print(\"비밀번호가 일치하지 않습니다.\")"
      ],
      "metadata": {
        "colab": {
          "base_uri": "https://localhost:8080/"
        },
        "id": "wBm61xtWExxI",
        "outputId": "0c8438a5-9682-4fee-be08-fb6060279c7f"
      },
      "execution_count": null,
      "outputs": [
        {
          "name": "stdout",
          "output_type": "stream",
          "text": [
            "기존 비밀번호를 입력하세요:1111\n",
            "새로운 비밀번호를 입력하세요:2222\n"
          ]
        }
      ]
    },
    {
      "cell_type": "code",
      "source": [
        "if check_passwd():\n",
        "    passwd = input('새로운 비밀번호를 입력하세요:')\n",
        "    with open('passwd.txt', 'w') as f:\n",
        "        m = hashlib.sha256()\n",
        "        m.update(passwd.encode('utf-8'))\n",
        "        f.write(m.hexdigest())\n",
        "else:\n",
        "    print(\"비밀번호가 일치하지 않습니다.\")"
      ],
      "metadata": {
        "colab": {
          "base_uri": "https://localhost:8080/"
        },
        "id": "RJGERHMAE3Ge",
        "outputId": "7efcda8e-30d7-4201-f0d6-d0c01ae73883"
      },
      "execution_count": null,
      "outputs": [
        {
          "output_type": "stream",
          "name": "stdout",
          "text": [
            "기존 비밀번호를 입력하세요:1111\n",
            "비밀번호가 일치하지 않습니다.\n"
          ]
        }
      ]
    },
    {
      "cell_type": "code",
      "source": [
        "import hmac\n",
        "import hashlib\n",
        "\n",
        "SECRET_KEY = 'PYTHON'\n",
        "\n",
        "important_message = '이것은 누구나 볼 수 있는 원본 파일의 내용이다.'\n",
        "\n",
        "with open('message.txt', 'w') as f:\n",
        "    f.write(important_message)\n",
        "\n",
        "with open('message_digest.txt', 'w') as f:\n",
        "    m = hmac.new(SECRET_KEY.encode('utf-8'), important_message.encode('utf-8'),\n",
        "                 hashlib.sha256)\n",
        "    f.write(m.hexdigest())"
      ],
      "metadata": {
        "id": "rAangyPnE5IJ"
      },
      "execution_count": null,
      "outputs": []
    },
    {
      "cell_type": "code",
      "source": [
        "m_sha2 = hashlib.sha256()\n",
        "m_sha2.update(important_message.encode('utf-8'))\n",
        "m_sha2.hexdigest()"
      ],
      "metadata": {
        "colab": {
          "base_uri": "https://localhost:8080/",
          "height": 36
        },
        "id": "YNexQ7oGL977",
        "outputId": "079683a2-e4fc-4d85-bc23-1c06b5e8f348"
      },
      "execution_count": null,
      "outputs": [
        {
          "output_type": "execute_result",
          "data": {
            "text/plain": [
              "'34765f19d6745b07ff422defdda81720f7b0b40ef70a1fc07f77f4cdf4688578'"
            ],
            "application/vnd.google.colaboratory.intrinsic+json": {
              "type": "string"
            }
          },
          "metadata": {},
          "execution_count": 17
        }
      ]
    },
    {
      "cell_type": "code",
      "source": [
        "m.hexdigest()"
      ],
      "metadata": {
        "colab": {
          "base_uri": "https://localhost:8080/",
          "height": 36
        },
        "id": "kHtL27FYMZGI",
        "outputId": "e4458618-3e87-44bf-eae3-8353c61d05fa"
      },
      "execution_count": null,
      "outputs": [
        {
          "output_type": "execute_result",
          "data": {
            "text/plain": [
              "'332e15049323685a59802b6a697bde574882f7bf568cc98636d7e44ffcbe9471'"
            ],
            "application/vnd.google.colaboratory.intrinsic+json": {
              "type": "string"
            }
          },
          "metadata": {},
          "execution_count": 18
        }
      ]
    },
    {
      "cell_type": "code",
      "source": [
        "SECRET_KEY = 'PYTHON'\n",
        "\n",
        "with open('message_digest.txt') as f:\n",
        "    message_digest = f.read()\n",
        "\n",
        "with open('message.txt') as f:\n",
        "    #message = f.read()\n",
        "    message = \"abs\"\n",
        "    m = hmac.new(SECRET_KEY.encode('utf-8'), message.encode('utf-8'),\n",
        "                 hashlib.sha256)\n",
        "\n",
        "    if m.hexdigest() == message_digest:\n",
        "        print(\"메시지가 변조되지 않았습니다. 안전합니다.\")\n",
        "\n",
        "    else:\n",
        "      print('메시지가 변조되었습니다')    "
      ],
      "metadata": {
        "colab": {
          "base_uri": "https://localhost:8080/"
        },
        "id": "y43Xq70RMbGO",
        "outputId": "66c736e5-f51d-4219-b9d9-7cd294c86f1f"
      },
      "execution_count": null,
      "outputs": [
        {
          "output_type": "stream",
          "name": "stdout",
          "text": [
            "메시지가 변조되었습니다\n"
          ]
        }
      ]
    },
    {
      "cell_type": "code",
      "source": [
        "import secrets\n",
        "\n",
        "key = secrets.token_hex(16)\n",
        "print(key)"
      ],
      "metadata": {
        "colab": {
          "base_uri": "https://localhost:8080/"
        },
        "id": "PKj58qVpMeqs",
        "outputId": "e99aa6bb-a724-40e2-fbf7-7805ea666f56"
      },
      "execution_count": null,
      "outputs": [
        {
          "output_type": "stream",
          "name": "stdout",
          "text": [
            "edb418c7b6f393a21a2199d92cb17e8d\n"
          ]
        }
      ]
    },
    {
      "cell_type": "code",
      "source": [],
      "metadata": {
        "id": "YdhB7M4dN5H8"
      },
      "execution_count": null,
      "outputs": []
    }
  ]
}