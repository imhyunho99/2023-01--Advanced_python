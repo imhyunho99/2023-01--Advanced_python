{
  "nbformat": 4,
  "nbformat_minor": 0,
  "metadata": {
    "colab": {
      "provenance": [],
      "collapsed_sections": [
        "njE7mLcOhlkV"
      ],
      "authorship_tag": "ABX9TyMAc0Ur2944oT0AvEwdMVTB",
      "include_colab_link": true
    },
    "kernelspec": {
      "name": "python3",
      "display_name": "Python 3"
    },
    "language_info": {
      "name": "python"
    }
  },
  "cells": [
    {
      "cell_type": "markdown",
      "metadata": {
        "id": "view-in-github",
        "colab_type": "text"
      },
      "source": [
        "<a href=\"https://colab.research.google.com/github/imhyunho99/2023-1--Advanced_python/blob/main/pylib_017~024.ipynb\" target=\"_parent\"><img src=\"https://colab.research.google.com/assets/colab-badge.svg\" alt=\"Open In Colab\"/></a>"
      ]
    },
    {
      "cell_type": "markdown",
      "source": [
        "###**04 Math and Number control**"
      ],
      "metadata": {
        "id": "njE7mLcOhlkV"
      }
    },
    {
      "cell_type": "markdown",
      "source": [
        "\n",
        "**4-1 math module**\n",
        "\n",
        "* math.gcd() 최대 공약수\n",
        "\n",
        "* math.lcm() 최대 공배수\n",
        "\n",
        "https://docs.python.org/ko/3/library/math.html\n",
        "\n",
        "\n",
        "\n",
        "\n"
      ],
      "metadata": {
        "id": "Om3XExk-iST0"
      }
    },
    {
      "cell_type": "code",
      "source": [
        "import math\n",
        "\n",
        "GCD = math.gcd(60, 100, 80) #2개의 인자에서 3.9 n개의 인자로 변경\n",
        "\n",
        "LCM = math.lcm(15, 25)\n",
        "\n",
        "print(\"GCD:\",GCD)\n",
        "\n",
        "print(\"LCM:\",LCM)\n",
        "#최대 공약수와 최소 공배수"
      ],
      "metadata": {
        "colab": {
          "base_uri": "https://localhost:8080/"
        },
        "id": "_Ux1OZhti5DL",
        "outputId": "c2be2981-4aa2-458d-cccb-af94c5adbd01"
      },
      "execution_count": 1,
      "outputs": [
        {
          "output_type": "stream",
          "name": "stdout",
          "text": [
            "GCD: 20\n",
            "LCM: 75\n"
          ]
        }
      ]
    },
    {
      "cell_type": "markdown",
      "source": [
        "\n",
        "**4-2 decimal module**\n",
        "\n",
        "* decimal..Decimal()  정밀한 소숫점 계산을 위함 decimal 객체\n",
        "\n",
        "  정밀도 향상을 위한 도구\n",
        "\n",
        "decimal - 십진 고정 소수점 및 부동 소수점 산술\n",
        "\n",
        " https://docs.python.org/ko/3/library/decimal.html\n",
        "\n",
        "부동 소수점 산술: 문제점 및 한계 \n",
        "\n",
        "https://docs.python.org/ko/3/tutorial/floatingpoint.html\n",
        "\n",
        "\n",
        "\n",
        "\n",
        "\n"
      ],
      "metadata": {
        "id": "E7wwXCm_jaBR"
      }
    },
    {
      "cell_type": "code",
      "source": [
        "from  decimal import Decimal\n",
        "\n",
        "print(\"0.1*3 == 0.3 :\",(0.1*3) == 0.3) #부동 소숫점의 한계\n",
        "\n",
        "te_1 = Decimal('0.1') * 3\n",
        "te_2 = Decimal('0.3')\n",
        "\n",
        "print(te_1 == te_2) #부동 소숫점 문제 해결\n",
        "\n",
        "print(float(Decimal('1.2') - Decimal('0.1')) == 1.1) #float로 형변환, 산술연산 지원, "
      ],
      "metadata": {
        "colab": {
          "base_uri": "https://localhost:8080/"
        },
        "id": "wXGMt5sHklxR",
        "outputId": "2cbc0c17-6436-469b-9735-bdba64480756"
      },
      "execution_count": 2,
      "outputs": [
        {
          "output_type": "stream",
          "name": "stdout",
          "text": [
            "0.1*3 == 0.3 : False\n",
            "True\n",
            "True\n"
          ]
        }
      ]
    },
    {
      "cell_type": "markdown",
      "source": [
        "**4-3 fractions module**\n",
        "\n",
        "유리수의 순환자리처리/ 분수의 처리\n",
        "\n",
        "\n",
        "\n",
        "\n",
        "*   F Object.numerator\n",
        "*   F Object.denominator\n",
        "\n",
        "\n",
        "\n",
        "https://docs.python.org/ko/3/library/fractions.html"
      ],
      "metadata": {
        "id": "0K0fCGF7ktYq"
      }
    },
    {
      "cell_type": "code",
      "source": [
        "from fractions import Fraction\n",
        "\n",
        "a = Fraction(1, 5)\n",
        "\n",
        "result = a+Fraction(2, 5)\n",
        "\n",
        "print(result) # 분수\n",
        "print(result.numerator) #분자\n",
        "print(result.denominator) #분모\n",
        "\n",
        "print(\"Decimal obj to Fraction: \",Fraction(te_1))"
      ],
      "metadata": {
        "colab": {
          "base_uri": "https://localhost:8080/"
        },
        "id": "uyq--VrDmDY4",
        "outputId": "541834ed-8b32-49c7-fe08-acbe3b5cbecd"
      },
      "execution_count": 3,
      "outputs": [
        {
          "output_type": "stream",
          "name": "stdout",
          "text": [
            "3/5\n",
            "3\n",
            "5\n",
            "Decimal obj to Fraction:  3/10\n"
          ]
        }
      ]
    },
    {
      "cell_type": "markdown",
      "source": [
        "**4-4 Random module**\n",
        "\n",
        "*   random.randint()\n",
        "*   random.sample()\n",
        "*   random.choice()\n",
        "*   random.shiffle()\n",
        "\n",
        "\n",
        " https://docs.python.org/ko/3/library/random.html"
      ],
      "metadata": {
        "id": "qGEAIi7qogzt"
      }
    },
    {
      "cell_type": "code",
      "source": [
        "import random\n",
        "\n",
        "result = []\n",
        "while len(result) < 6:\n",
        "    num = random.randint(1, 45)  # 1~45 사이의 숫자중 임의의 숫자 생성\n",
        "    if num not in result:  # 중복 숫자 뽑기 방지\n",
        "        result.append(num)\n",
        "\n",
        "print(result)  \n",
        "\n",
        "result_sample = random.sample(result, len(result))\n",
        "result_choice = random.choice(result_sample)\n",
        "random.shuffle(result)\n",
        "\n",
        "print(\"result_smaple:\", result_sample)\n",
        "print(\"Choice 1:\", result_choice)\n",
        "\n",
        "print(\"shuffle:\", result)"
      ],
      "metadata": {
        "colab": {
          "base_uri": "https://localhost:8080/"
        },
        "id": "U_R8GZc0qjhN",
        "outputId": "fb7d38b5-7294-42d4-e8c8-a28796670b10"
      },
      "execution_count": 4,
      "outputs": [
        {
          "output_type": "stream",
          "name": "stdout",
          "text": [
            "[39, 22, 2, 34, 41, 15]\n",
            "result_smaple: [34, 15, 22, 41, 39, 2]\n",
            "Choice 1: 22\n",
            "shuffle: [39, 34, 2, 41, 15, 22]\n"
          ]
        }
      ]
    },
    {
      "cell_type": "markdown",
      "source": [
        "**4-5 statistics module**\n",
        "\n",
        "*   statistics.mean()\n",
        "\n",
        "*   statistics.median()\n",
        "\n",
        "\n",
        "https://docs.python.org/ko/3/library/statistics.html\n"
      ],
      "metadata": {
        "id": "4ljtYg19sp4k"
      }
    },
    {
      "cell_type": "code",
      "source": [
        "import statistics\n",
        "\n",
        "marks = [78, 93, 99, 95, 51, 71, 52, 43, 81, 78]\n",
        "\n",
        "mean = statistics.mean(marks) #평균값값\n",
        "\n",
        "median = statistics.median(marks) #중앙값\n",
        "\n",
        "print(\"mean:\", mean)\n",
        "print(\"median:\", median)"
      ],
      "metadata": {
        "colab": {
          "base_uri": "https://localhost:8080/"
        },
        "id": "xUUSr-XJuTvY",
        "outputId": "0cb1900f-56f9-4517-8831-474297d49f5d"
      },
      "execution_count": 5,
      "outputs": [
        {
          "output_type": "stream",
          "name": "stdout",
          "text": [
            "mean: 74.1\n",
            "median: 78.0\n"
          ]
        }
      ]
    },
    {
      "cell_type": "markdown",
      "source": [
        "###**05 Functional programing**\n",
        "\n",
        "\n",
        "함수형 프로그래밍\n",
        "\n",
        "자료 처리를 수학적 함수의 계산으로 취급하고 상태와 가변 데이터를 멀리하는 프로그래밍 패러다임의 하나이다."
      ],
      "metadata": {
        "id": "N1FBatB_uwzc"
      }
    },
    {
      "cell_type": "markdown",
      "source": [
        "**5-1 itertools module**\n",
        "\n",
        "*    itertools.cycle()\n",
        "*    next()\n",
        "*    itertools.accumulate()\n",
        "\n",
        "\n",
        "https://docs.python.org/ko/3/library/itertools.html#itertools\n"
      ],
      "metadata": {
        "id": "5uT1baJdxa15"
      }
    },
    {
      "cell_type": "code",
      "source": [
        "import itertools\n",
        "\n",
        "emp_pool = itertools.cycle(['김은경', '이명자', '이성진']) # 반복 가능한객체를 순서대로 무한히 호출\n",
        "for i in range(5): \n",
        "  print(next(emp_pool))"
      ],
      "metadata": {
        "colab": {
          "base_uri": "https://localhost:8080/"
        },
        "id": "wkbaqsWdx2at",
        "outputId": "5a22d8b7-e199-41ae-a65c-a02a7dbdc6df"
      },
      "execution_count": null,
      "outputs": [
        {
          "output_type": "stream",
          "name": "stdout",
          "text": [
            "김은경\n",
            "이명자\n",
            "이성진\n",
            "김은경\n",
            "이명자\n"
          ]
        }
      ]
    },
    {
      "cell_type": "code",
      "source": [
        "monthly_income = [1161, 1814, 1270, 2256, 1413, 1842, 2221, 2207, 2450, 2823, 2540, 2134]\n",
        "\n",
        "acc = []\n",
        "total = 0\n",
        "for i in monthly_income:\n",
        "  total += i\n",
        "  acc.append(total) \n",
        "print(acc) #iter를 안쓰고 누적 합계를 구하기\n",
        "\n",
        "result = list(itertools.accumulate(monthly_income))#누적 합계\n",
        "print(itertools.accumulate(monthly_income))\n",
        "for i in result:\n",
        "  print(\"total income:\", i)\n",
        "\n",
        "result = list(itertools.accumulate(monthly_income, max)) #최대치\n",
        "print(result)"
      ],
      "metadata": {
        "colab": {
          "base_uri": "https://localhost:8080/"
        },
        "id": "OkAdIVUdykot",
        "outputId": "27e65329-5b2d-44dc-8291-ea6f7c5e5aa2"
      },
      "execution_count": null,
      "outputs": [
        {
          "output_type": "stream",
          "name": "stdout",
          "text": [
            "[1161, 2975, 4245, 6501, 7914, 9756, 11977, 14184, 16634, 19457, 21997, 24131]\n",
            "<itertools.accumulate object at 0x7f8a54355200>\n",
            "total income: 1161\n",
            "total income: 2975\n",
            "total income: 4245\n",
            "total income: 6501\n",
            "total income: 7914\n",
            "total income: 9756\n",
            "total income: 11977\n",
            "total income: 14184\n",
            "total income: 16634\n",
            "total income: 19457\n",
            "total income: 21997\n",
            "total income: 24131\n",
            "[1161, 1814, 1814, 2256, 2256, 2256, 2256, 2256, 2450, 2823, 2823, 2823]\n"
          ]
        }
      ]
    },
    {
      "cell_type": "code",
      "source": [],
      "metadata": {
        "id": "v0mO5wCozXIC"
      },
      "execution_count": null,
      "outputs": []
    }
  ]
}